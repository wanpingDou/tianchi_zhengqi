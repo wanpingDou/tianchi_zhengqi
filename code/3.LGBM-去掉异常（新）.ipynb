{
 "cells": [
  {
   "cell_type": "code",
   "execution_count": 1,
   "metadata": {},
   "outputs": [
    {
     "name": "stdout",
     "output_type": "stream",
     "text": [
      "Pretty printing has been turned OFF\n"
     ]
    }
   ],
   "source": [
    "import pandas as pd\n",
    "import datetime\n",
    "import csv\n",
    "import numpy as np\n",
    "import os\n",
    "import scipy as sp\n",
    "import xgboost as xgb\n",
    "import lightgbm as lgb\n",
    "import itertools\n",
    "import operator\n",
    "import math\n",
    "import warnings\n",
    "warnings.filterwarnings(\"ignore\")\n",
    "from scipy import stats \n",
    "from sklearn.preprocessing import StandardScaler, LabelEncoder\n",
    "from sklearn.base import TransformerMixin\n",
    "from sklearn.model_selection import train_test_split\n",
    "from sklearn.metrics import mean_absolute_error, mean_squared_error\n",
    "from sklearn.model_selection import cross_val_score\n",
    "from sklearn.model_selection import GridSearchCV\n",
    "from sklearn.model_selection import StratifiedKFold\n",
    "from xgboost.sklearn import XGBRegressor\n",
    "from lightgbm.sklearn import LGBMRegressor\n",
    "from sklearn.externals import joblib\n",
    "from xgboost import plot_importance\n",
    "\n",
    "\n",
    "import seaborn as sns\n",
    "import matplotlib.pyplot as plt\n",
    "%matplotlib inline\n",
    "%config ZMQInteractiveShell.ast_node_interactivity='all'\n",
    "%pprint\n",
    "\n",
    "# 大小设置\n",
    "sns.set(rc={'figure.figsize':(13,7)})\n",
    "# 风格设置\n",
    "sns.set_style(\"whitegrid\")\n",
    "\n",
    "goal = 'target'\n"
   ]
  },
  {
   "cell_type": "markdown",
   "metadata": {},
   "source": [
    "# 导入数据"
   ]
  },
  {
   "cell_type": "code",
   "execution_count": 2,
   "metadata": {},
   "outputs": [
    {
     "data": {
      "text/html": [
       "<div>\n",
       "<style scoped>\n",
       "    .dataframe tbody tr th:only-of-type {\n",
       "        vertical-align: middle;\n",
       "    }\n",
       "\n",
       "    .dataframe tbody tr th {\n",
       "        vertical-align: top;\n",
       "    }\n",
       "\n",
       "    .dataframe thead th {\n",
       "        text-align: right;\n",
       "    }\n",
       "</style>\n",
       "<table border=\"1\" class=\"dataframe\">\n",
       "  <thead>\n",
       "    <tr style=\"text-align: right;\">\n",
       "      <th></th>\n",
       "      <th>V0</th>\n",
       "      <th>V1</th>\n",
       "      <th>V2</th>\n",
       "      <th>V3</th>\n",
       "      <th>V4</th>\n",
       "      <th>V5</th>\n",
       "      <th>V6</th>\n",
       "      <th>V7</th>\n",
       "      <th>V8</th>\n",
       "      <th>V9</th>\n",
       "      <th>...</th>\n",
       "      <th>V29</th>\n",
       "      <th>V30</th>\n",
       "      <th>V31</th>\n",
       "      <th>V32</th>\n",
       "      <th>V33</th>\n",
       "      <th>V34</th>\n",
       "      <th>V35</th>\n",
       "      <th>V36</th>\n",
       "      <th>V37</th>\n",
       "      <th>target</th>\n",
       "    </tr>\n",
       "  </thead>\n",
       "  <tbody>\n",
       "    <tr>\n",
       "      <td>0</td>\n",
       "      <td>0.566</td>\n",
       "      <td>0.016</td>\n",
       "      <td>-0.143</td>\n",
       "      <td>0.407</td>\n",
       "      <td>0.452</td>\n",
       "      <td>-0.901</td>\n",
       "      <td>-1.812</td>\n",
       "      <td>-2.36</td>\n",
       "      <td>-0.436</td>\n",
       "      <td>-2.114</td>\n",
       "      <td>...</td>\n",
       "      <td>0.136</td>\n",
       "      <td>0.109</td>\n",
       "      <td>-0.615</td>\n",
       "      <td>0.327</td>\n",
       "      <td>-4.627</td>\n",
       "      <td>-4.789</td>\n",
       "      <td>-5.101</td>\n",
       "      <td>-2.608</td>\n",
       "      <td>-3.508</td>\n",
       "      <td>0.175</td>\n",
       "    </tr>\n",
       "    <tr>\n",
       "      <td>1</td>\n",
       "      <td>0.968</td>\n",
       "      <td>0.437</td>\n",
       "      <td>0.066</td>\n",
       "      <td>0.566</td>\n",
       "      <td>0.194</td>\n",
       "      <td>-0.893</td>\n",
       "      <td>-1.566</td>\n",
       "      <td>-2.36</td>\n",
       "      <td>0.332</td>\n",
       "      <td>-2.114</td>\n",
       "      <td>...</td>\n",
       "      <td>-0.128</td>\n",
       "      <td>0.124</td>\n",
       "      <td>0.032</td>\n",
       "      <td>0.600</td>\n",
       "      <td>-0.843</td>\n",
       "      <td>0.160</td>\n",
       "      <td>0.364</td>\n",
       "      <td>-0.335</td>\n",
       "      <td>-0.730</td>\n",
       "      <td>0.676</td>\n",
       "    </tr>\n",
       "  </tbody>\n",
       "</table>\n",
       "<p>2 rows × 39 columns</p>\n",
       "</div>"
      ],
      "text/plain": [
       "      V0     V1     V2     V3     V4     V5     V6    V7     V8     V9  ...  \\\n",
       "0  0.566  0.016 -0.143  0.407  0.452 -0.901 -1.812 -2.36 -0.436 -2.114  ...   \n",
       "1  0.968  0.437  0.066  0.566  0.194 -0.893 -1.566 -2.36  0.332 -2.114  ...   \n",
       "\n",
       "     V29    V30    V31    V32    V33    V34    V35    V36    V37  target  \n",
       "0  0.136  0.109 -0.615  0.327 -4.627 -4.789 -5.101 -2.608 -3.508   0.175  \n",
       "1 -0.128  0.124  0.032  0.600 -0.843  0.160  0.364 -0.335 -0.730   0.676  \n",
       "\n",
       "[2 rows x 39 columns]"
      ]
     },
     "execution_count": 2,
     "metadata": {},
     "output_type": "execute_result"
    }
   ],
   "source": [
    "df_train = pd.read_table('../data/zhengqi_train.txt', sep='\\t')\n",
    "df_train.head(2)"
   ]
  },
  {
   "cell_type": "code",
   "execution_count": 3,
   "metadata": {},
   "outputs": [
    {
     "data": {
      "text/html": [
       "<div>\n",
       "<style scoped>\n",
       "    .dataframe tbody tr th:only-of-type {\n",
       "        vertical-align: middle;\n",
       "    }\n",
       "\n",
       "    .dataframe tbody tr th {\n",
       "        vertical-align: top;\n",
       "    }\n",
       "\n",
       "    .dataframe thead th {\n",
       "        text-align: right;\n",
       "    }\n",
       "</style>\n",
       "<table border=\"1\" class=\"dataframe\">\n",
       "  <thead>\n",
       "    <tr style=\"text-align: right;\">\n",
       "      <th></th>\n",
       "      <th>V0</th>\n",
       "      <th>V1</th>\n",
       "      <th>V2</th>\n",
       "      <th>V3</th>\n",
       "      <th>V4</th>\n",
       "      <th>V5</th>\n",
       "      <th>V6</th>\n",
       "      <th>V7</th>\n",
       "      <th>V8</th>\n",
       "      <th>V9</th>\n",
       "      <th>...</th>\n",
       "      <th>V28</th>\n",
       "      <th>V29</th>\n",
       "      <th>V30</th>\n",
       "      <th>V31</th>\n",
       "      <th>V32</th>\n",
       "      <th>V33</th>\n",
       "      <th>V34</th>\n",
       "      <th>V35</th>\n",
       "      <th>V36</th>\n",
       "      <th>V37</th>\n",
       "    </tr>\n",
       "  </thead>\n",
       "  <tbody>\n",
       "    <tr>\n",
       "      <td>0</td>\n",
       "      <td>0.368</td>\n",
       "      <td>0.380</td>\n",
       "      <td>-0.225</td>\n",
       "      <td>-0.049</td>\n",
       "      <td>0.379</td>\n",
       "      <td>0.092</td>\n",
       "      <td>0.550</td>\n",
       "      <td>0.551</td>\n",
       "      <td>0.244</td>\n",
       "      <td>0.904</td>\n",
       "      <td>...</td>\n",
       "      <td>-0.449</td>\n",
       "      <td>0.047</td>\n",
       "      <td>0.057</td>\n",
       "      <td>-0.042</td>\n",
       "      <td>0.847</td>\n",
       "      <td>0.534</td>\n",
       "      <td>-0.009</td>\n",
       "      <td>-0.190</td>\n",
       "      <td>-0.567</td>\n",
       "      <td>0.388</td>\n",
       "    </tr>\n",
       "    <tr>\n",
       "      <td>1</td>\n",
       "      <td>0.148</td>\n",
       "      <td>0.489</td>\n",
       "      <td>-0.247</td>\n",
       "      <td>-0.049</td>\n",
       "      <td>0.122</td>\n",
       "      <td>-0.201</td>\n",
       "      <td>0.487</td>\n",
       "      <td>0.493</td>\n",
       "      <td>-0.127</td>\n",
       "      <td>0.904</td>\n",
       "      <td>...</td>\n",
       "      <td>-0.443</td>\n",
       "      <td>0.047</td>\n",
       "      <td>0.560</td>\n",
       "      <td>0.176</td>\n",
       "      <td>0.551</td>\n",
       "      <td>0.046</td>\n",
       "      <td>-0.220</td>\n",
       "      <td>0.008</td>\n",
       "      <td>-0.294</td>\n",
       "      <td>0.104</td>\n",
       "    </tr>\n",
       "  </tbody>\n",
       "</table>\n",
       "<p>2 rows × 38 columns</p>\n",
       "</div>"
      ],
      "text/plain": [
       "      V0     V1     V2     V3     V4     V5     V6     V7     V8     V9  ...  \\\n",
       "0  0.368  0.380 -0.225 -0.049  0.379  0.092  0.550  0.551  0.244  0.904  ...   \n",
       "1  0.148  0.489 -0.247 -0.049  0.122 -0.201  0.487  0.493 -0.127  0.904  ...   \n",
       "\n",
       "     V28    V29    V30    V31    V32    V33    V34    V35    V36    V37  \n",
       "0 -0.449  0.047  0.057 -0.042  0.847  0.534 -0.009 -0.190 -0.567  0.388  \n",
       "1 -0.443  0.047  0.560  0.176  0.551  0.046 -0.220  0.008 -0.294  0.104  \n",
       "\n",
       "[2 rows x 38 columns]"
      ]
     },
     "execution_count": 3,
     "metadata": {},
     "output_type": "execute_result"
    }
   ],
   "source": [
    "df_test = pd.read_table('../data/zhengqi_test.txt', sep='\\t')\n",
    "df_test.head(2)"
   ]
  },
  {
   "cell_type": "code",
   "execution_count": 4,
   "metadata": {},
   "outputs": [],
   "source": [
    "df_test[\"target\"] = 0\n",
    "df_train[\"isTrain\"] = 1\n",
    "df_test[\"isTrain\"] = 0\n",
    "dt = pd.concat([df_train, df_test], ignore_index=True)"
   ]
  },
  {
   "cell_type": "markdown",
   "metadata": {},
   "source": [
    "# 加载数据"
   ]
  },
  {
   "cell_type": "code",
   "execution_count": 5,
   "metadata": {},
   "outputs": [],
   "source": [
    "def load_data(dt=dt, m_type = 'xgb-model'):\n",
    "    \"\"\"\n",
    "        加载数据，输出放入模型的特征features列表以及特征列表中是类别型的列表cate_feat\n",
    "        对cate_feat进行了LabelEncoder，针对LGB增加category转化\n",
    "    \"\"\"\n",
    "    # 参考资料：树模型LabelEncoder——https://www.cnblogs.com/ranjiewen/p/9105954.html:\n",
    "\n",
    "    noise_feature = [goal, 'isTrain']\n",
    "    category_feature = []\n",
    "    numeric_feature = [i for i in dt.columns if i not in category_feature + noise_feature]\n",
    "    \n",
    "    lbl = LabelEncoder()  \n",
    "    for col in category_feature:\n",
    "        dt[col] = lbl.fit_transform(dt[col].astype(str))\n",
    "    if m_type == 'lgb-model':\n",
    "        for catf in category_feature:\n",
    "            dt[catf] = dt[catf].astype('category')         \n",
    "    features = numeric_feature + category_feature\n",
    "    train = dt[dt.isTrain==1]\n",
    "    test = dt[dt.isTrain==0]\n",
    "\n",
    "\n",
    "    return (train, test, features, category_feature)"
   ]
  },
  {
   "cell_type": "markdown",
   "metadata": {},
   "source": [
    "# 直接预测\n",
    "\n",
    "- 第一次提交的xgb参数"
   ]
  },
  {
   "cell_type": "code",
   "execution_count": 6,
   "metadata": {},
   "outputs": [
    {
     "name": "stdout",
     "output_type": "stream",
     "text": [
      "LGB交叉验证...\n"
     ]
    },
    {
     "name": "stderr",
     "output_type": "stream",
     "text": [
      "C:\\ProgramData\\Anaconda3\\lib\\site-packages\\lightgbm\\engine.py:502: UserWarning: Found `n_estimators` in params. Will use it instead of argument\n",
      "  warnings.warn(\"Found `{}` in params. Will use it instead of argument\".format(alias))\n",
      "C:\\ProgramData\\Anaconda3\\lib\\site-packages\\lightgbm\\basic.py:794: UserWarning: silent keyword has been found in `params` and will be ignored.\n",
      "Please use silent argument of the Dataset constructor to pass this parameter.\n",
      "  .format(key))\n"
     ]
    },
    {
     "name": "stdout",
     "output_type": "stream",
     "text": [
      "[500]\tcv_agg's rmse: 0.347536\n",
      "[1000]\tcv_agg's rmse: 0.339611\n",
      "[1500]\tcv_agg's rmse: 0.336547\n",
      "[2000]\tcv_agg's rmse: 0.335733\n",
      "[2500]\tcv_agg's rmse: 0.335043\n",
      "[3000]\tcv_agg's rmse: 0.334694\n"
     ]
    },
    {
     "data": {
      "text/plain": [
       "LGBMRegressor(bagging_fraction=0.6, bagging_freq=0, boosting_type='gbdt',\n",
       "              class_weight=None, colsample_bytree=1.0, feature_fraction=0.8,\n",
       "              importance_type='split', lambda_l1=1e-05, lambda_l2=1e-05,\n",
       "              learning_rate=0.01, max_bin=85, max_depth=4, metrics='rmse',\n",
       "              min_child_samples=20, min_child_weight=0.001, min_data_in_leaf=31,\n",
       "              min_split_gain=0, n_estimators=3184, n_jobs=-1, num_leaves=16,\n",
       "              objective='regression', random_state=None, reg_alpha=0.0,\n",
       "              reg_lambda=0.0, seed=2020002, silent=True, subsample=1.0,\n",
       "              subsample_for_bin=200000, subsample_freq=0)"
      ]
     },
     "execution_count": 6,
     "metadata": {},
     "output_type": "execute_result"
    },
    {
     "name": "stdout",
     "output_type": "stream",
     "text": [
      "LGB训练...\n"
     ]
    },
    {
     "data": {
      "text/plain": [
       "LGBMRegressor(bagging_fraction=0.6, bagging_freq=0, boosting_type='gbdt',\n",
       "              class_weight=None, colsample_bytree=1.0, feature_fraction=0.8,\n",
       "              importance_type='split', lambda_l1=1e-05, lambda_l2=1e-05,\n",
       "              learning_rate=0.01, max_bin=85, max_depth=4, metrics='rmse',\n",
       "              min_child_samples=20, min_child_weight=0.001, min_data_in_leaf=31,\n",
       "              min_split_gain=0, n_estimators=3184, n_jobs=-1, num_leaves=16,\n",
       "              objective='regression', random_state=None, reg_alpha=0.0,\n",
       "              reg_lambda=0.0, seed=2020002, silent=True, subsample=1.0,\n",
       "              subsample_for_bin=200000, subsample_freq=0)"
      ]
     },
     "execution_count": 6,
     "metadata": {},
     "output_type": "execute_result"
    },
    {
     "name": "stdout",
     "output_type": "stream",
     "text": [
      "训练集MSE： 0.030039377458799744\n",
      "LGB迭代次数... 3184\n",
      "LGB训练集预测...\n",
      "LGB测试集预测...\n",
      "XGB的特征重要性...\n"
     ]
    },
    {
     "data": {
      "text/plain": [
       "<Figure size 864x432 with 0 Axes>"
      ]
     },
     "execution_count": 6,
     "metadata": {},
     "output_type": "execute_result"
    },
    {
     "data": {
      "text/plain": [
       "<matplotlib.axes._subplots.AxesSubplot object at 0x000001FA2DA3ACC0>"
      ]
     },
     "execution_count": 6,
     "metadata": {},
     "output_type": "execute_result"
    },
    {
     "data": {
      "text/plain": [
       "Text(0.5,1,'Featurertances')"
      ]
     },
     "execution_count": 6,
     "metadata": {},
     "output_type": "execute_result"
    },
    {
     "data": {
      "text/plain": [
       "<Figure size 864x432 with 0 Axes>"
      ]
     },
     "metadata": {},
     "output_type": "display_data"
    },
    {
     "data": {
      "image/png": "[encoded data removed]",
      "text/plain": [
       "<Figure size 432x288 with 1 Axes>"
      ]
     },
     "metadata": {},
     "output_type": "display_data"
    }
   ],
   "source": [
    "train, test, features, category_feature = load_data(dt=dt, m_type='xgb-model')\n",
    "\n",
    "lgbRegr = LGBMRegressor(\n",
    "boosting_type='gbdt',\n",
    "                                                       objective='regression',\n",
    "                                                       metrics='rmse',\n",
    "                                                       learning_rate=0.01, \n",
    "                                                       n_estimators=8000, \n",
    "                                                       max_depth=4, \n",
    "                                                       num_leaves=16,\n",
    "                                                       max_bin=85,\n",
    "                                                       min_data_in_leaf=31,\n",
    "                                                       bagging_fraction = 0.6,\n",
    "                                                       feature_fraction = 0.8,\n",
    "                                                       bagging_freq = 0,\n",
    "                                                       lambda_l1=1e-05,\n",
    "                                                       lambda_l2=1e-05,\n",
    "                                                       min_split_gain=0,\n",
    "    seed=2020002)\n",
    "print('LGB交叉验证...')\n",
    "lgb_param = lgbRegr.get_params()\n",
    "    \n",
    "dtrain = lgb.Dataset(dt.loc[dt.isTrain==1].iloc[:, 0:-2].values, dt.loc[dt.isTrain==1, goal].values)\n",
    "\n",
    "cvresult = lgb.cv(lgb_param, \n",
    "                  dtrain,\n",
    "                  num_boost_round=lgbRegr.get_params()['n_estimators'], \n",
    "                  nfold=3, \n",
    "                  metrics='rmse',\n",
    "                  early_stopping_rounds=200, \n",
    "                  verbose_eval=500, \n",
    "                  show_stdv=False, \n",
    "                  seed=202002, \n",
    "                  callbacks=None, \n",
    "                  stratified=False,\n",
    "                  shuffle=True)\n",
    "lgbRegr.set_params(n_estimators=len(cvresult['rmse-mean']))\n",
    "print('LGB训练...')\n",
    "lgbRegr.fit(train[features], train[goal], eval_metric='rmse')\n",
    "print('训练集MSE：', mean_squared_error(y_true=train[goal], y_pred=lgbRegr.predict(train[features])) )\n",
    "print('LGB迭代次数...', lgbRegr.n_estimators)\n",
    "\n",
    "print('LGB训练集预测...')\n",
    "train_target_pre = lgbRegr.predict(train[features])\n",
    "\n",
    "print('LGB测试集预测...')\n",
    "test_target_pre = lgbRegr.predict(test[features])\n",
    "#Plot feature importance \n",
    "print('XGB的特征重要性...')\n",
    "\n",
    "plt.figure(figsize=(12,6))\n",
    "lgb.plot_importance(lgbRegr, max_num_features=30)\n",
    "plt.title(\"Featurertances\")\n",
    "plt.show()\n"
   ]
  },
  {
   "cell_type": "markdown",
   "metadata": {},
   "source": [
    "# 去异常"
   ]
  },
  {
   "cell_type": "code",
   "execution_count": 7,
   "metadata": {},
   "outputs": [],
   "source": [
    "def find_outlies(y_true, y_pre, train=train, sigma=3):\n",
    "    diff = y_true-y_pre\n",
    "    low_v = diff.quantile(sigma/100)\n",
    "    up_v = diff.quantile(1-sigma/100)\n",
    "    train = train[(diff>=low_v) & (diff<=up_v)]   \n",
    "    return train\n",
    "\n",
    "train = find_outlies(y_true=train.target, y_pre=train_target_pre, train=train, sigma=3)"
   ]
  },
  {
   "cell_type": "markdown",
   "metadata": {},
   "source": [
    "# 调参\n",
    "\n",
    "- 参考：https://www.twblogs.net/a/5be215942b717720b51cce01/zh-cn"
   ]
  },
  {
   "cell_type": "code",
   "execution_count": 8,
   "metadata": {},
   "outputs": [
    {
     "data": {
      "text/plain": [
       "(2714, 40)"
      ]
     },
     "execution_count": 8,
     "metadata": {},
     "output_type": "execute_result"
    }
   ],
   "source": [
    "train.shape"
   ]
  },
  {
   "cell_type": "markdown",
   "metadata": {},
   "source": [
    "## 迭代轮数确认"
   ]
  },
  {
   "cell_type": "code",
   "execution_count": 11,
   "metadata": {},
   "outputs": [
    {
     "name": "stdout",
     "output_type": "stream",
     "text": [
      "best n_estimators: 444\n",
      "best cv score: 0.8808646542491088\n"
     ]
    }
   ],
   "source": [
    "X=train.iloc[:, 0:-2].values\n",
    "y=train[goal].values\n",
    "X_train,X_test,y_train,y_test=train_test_split(X,y,random_state=0,test_size=0.2)\n",
    "params = {    \n",
    "          'boosting_type': 'gbdt',\n",
    "          'objective': 'regression',\n",
    "          'metric': 'rmse',\n",
    "          'nthread':4,\n",
    "          'learning_rate':0.1,\n",
    "          'num_leaves':30, \n",
    "          'max_depth': 5,   \n",
    "          'subsample': 0.8, \n",
    "          'colsample_bytree': 0.8, \n",
    "    }\n",
    "    \n",
    "data_train = lgb.Dataset(X_train, y_train)\n",
    "cv_results = lgb.cv(params, data_train, num_boost_round=5000, nfold=5, \n",
    "                    stratified=False, shuffle=True, \n",
    "                    metrics='rmse',\n",
    "                    early_stopping_rounds=200,\n",
    "                    seed=2020001)\n",
    "print('best n_estimators:', len(cv_results['rmse-mean']))\n",
    "print('best cv score:', pd.Series(cv_results['rmse-mean']).max())"
   ]
  },
  {
   "cell_type": "markdown",
   "metadata": {},
   "source": [
    "## max_depth与num_leaves"
   ]
  },
  {
   "cell_type": "code",
   "execution_count": 15,
   "metadata": {},
   "outputs": [
    {
     "data": {
      "text/plain": [
       "GridSearchCV(cv=5, error_score='raise-deprecating',\n",
       "             estimator=LGBMRegressor(bagging_fraction=0.8, boosting_type='gbdt',\n",
       "                                     class_weight=None, colsample_bytree=1.0,\n",
       "                                     feature_fraction=0.8,\n",
       "                                     importance_type='split', learning_rate=0.1,\n",
       "                                     max_depth=-1, metrics='rmse',\n",
       "                                     min_child_samples=20,\n",
       "                                     min_child_weight=0.001, min_split_gain=0.0,\n",
       "                                     n_estimators=444, n_jobs=-1, num_leaves=31,\n",
       "                                     objective='regression', random_state=None,\n",
       "                                     reg_alpha=0.0, reg_lambda=0.0, silent=True,\n",
       "                                     subsample=1.0, subsample_for_bin=200000,\n",
       "                                     subsample_freq=0),\n",
       "             iid='warn', n_jobs=-1,\n",
       "             param_grid={'max_depth': [10, 11, 12, 13],\n",
       "                         'num_leaves': [14, 15, 16]},\n",
       "             pre_dispatch='2*n_jobs', refit=True, return_train_score=False,\n",
       "             scoring='neg_mean_squared_error', verbose=0)"
      ]
     },
     "execution_count": 15,
     "metadata": {},
     "output_type": "execute_result"
    },
    {
     "name": "stdout",
     "output_type": "stream",
     "text": [
      "输出最优参数...\n"
     ]
    },
    {
     "data": {
      "text/plain": [
       "{'max_depth': 11, 'num_leaves': 15}"
      ]
     },
     "execution_count": 15,
     "metadata": {},
     "output_type": "execute_result"
    },
    {
     "name": "stdout",
     "output_type": "stream",
     "text": [
      "输出最优得分...\n"
     ]
    },
    {
     "data": {
      "text/plain": [
       "-0.06747983486394175"
      ]
     },
     "execution_count": 15,
     "metadata": {},
     "output_type": "execute_result"
    }
   ],
   "source": [
    "params_test1={'max_depth': [10, 11, 12, 13], \n",
    "              'num_leaves':[14, 15, 16]}\n",
    "              \n",
    "gsearch1 = GridSearchCV(estimator = LGBMRegressor(boosting_type='gbdt',\n",
    "                                                       objective='regression',\n",
    "                                                       metrics='rmse',\n",
    "                                                       learning_rate=0.1, \n",
    "                                                       n_estimators=444, \n",
    "#                                                        max_depth=4, \n",
    "#                                                        num_leaves=30,\n",
    "                                                       bagging_fraction = 0.8,\n",
    "                                                       feature_fraction = 0.8), \n",
    "                       param_grid = params_test1, scoring='neg_mean_squared_error',cv=5,n_jobs=-1)\n",
    "gsearch1.fit(X_train,y_train)\n",
    "print(\"输出最优参数...\")\n",
    "gsearch1.best_params_\n",
    "print(\"输出最优得分...\")\n",
    "gsearch1.best_score_"
   ]
  },
  {
   "cell_type": "markdown",
   "metadata": {},
   "source": [
    "## max_bin与min_data_in_leaf"
   ]
  },
  {
   "cell_type": "code",
   "execution_count": 16,
   "metadata": {},
   "outputs": [
    {
     "data": {
      "text/plain": [
       "GridSearchCV(cv=5, error_score='raise-deprecating',\n",
       "             estimator=LGBMRegressor(bagging_fraction=0.8, boosting_type='gbdt',\n",
       "                                     class_weight=None, colsample_bytree=1.0,\n",
       "                                     feature_fraction=0.8,\n",
       "                                     importance_type='split', learning_rate=0.1,\n",
       "                                     max_depth=11, metrics='rmse',\n",
       "                                     min_child_samples=20,\n",
       "                                     min_child_weight=0.001, min_split_gain=0.0,\n",
       "                                     n_estimators=444, n_jobs=-1, num_leaves=15,\n",
       "                                     objective='regression', random_state=None,\n",
       "                                     reg_alpha=0.0, reg_lambda=0.0, silent=True,\n",
       "                                     subsample=1.0, subsample_for_bin=200000,\n",
       "                                     subsample_freq=0),\n",
       "             iid='warn', n_jobs=-1,\n",
       "             param_grid={'max_bin': range(70, 90, 3),\n",
       "                         'min_data_in_leaf': range(25, 40, 3)},\n",
       "             pre_dispatch='2*n_jobs', refit=True, return_train_score=False,\n",
       "             scoring='neg_mean_squared_error', verbose=0)"
      ]
     },
     "execution_count": 16,
     "metadata": {},
     "output_type": "execute_result"
    },
    {
     "name": "stdout",
     "output_type": "stream",
     "text": [
      "输出最优参数...\n"
     ]
    },
    {
     "data": {
      "text/plain": [
       "{'max_bin': 76, 'min_data_in_leaf': 37}"
      ]
     },
     "execution_count": 16,
     "metadata": {},
     "output_type": "execute_result"
    },
    {
     "name": "stdout",
     "output_type": "stream",
     "text": [
      "输出最优得分...\n"
     ]
    },
    {
     "data": {
      "text/plain": [
       "-0.06645459839164501"
      ]
     },
     "execution_count": 16,
     "metadata": {},
     "output_type": "execute_result"
    }
   ],
   "source": [
    "params_test2={'max_bin': range(70,90,3), \n",
    "              'min_data_in_leaf':range(25,40,3)}\n",
    "              \n",
    "gsearch1 = GridSearchCV(estimator = LGBMRegressor(boosting_type='gbdt',\n",
    "                                                       objective='regression',\n",
    "                                                       metrics='rmse',\n",
    "                                                       learning_rate=0.1, \n",
    "                                                       n_estimators=444, \n",
    "                                                       max_depth=11, \n",
    "                                                       num_leaves=15,\n",
    "                                                       bagging_fraction = 0.8,\n",
    "                                                       feature_fraction = 0.8), \n",
    "                       param_grid = params_test2, scoring='neg_mean_squared_error',cv=5,n_jobs=-1)\n",
    "gsearch1.fit(X_train,y_train)\n",
    "print(\"输出最优参数...\")\n",
    "gsearch1.best_params_\n",
    "print(\"输出最优得分...\")\n",
    "gsearch1.best_score_"
   ]
  },
  {
   "cell_type": "markdown",
   "metadata": {},
   "source": [
    "## feature_fraction、bagging_fraction与bagging_freq"
   ]
  },
  {
   "cell_type": "code",
   "execution_count": 18,
   "metadata": {},
   "outputs": [
    {
     "data": {
      "text/plain": [
       "GridSearchCV(cv=5, error_score='raise-deprecating',\n",
       "             estimator=LGBMRegressor(boosting_type='gbdt', class_weight=None,\n",
       "                                     colsample_bytree=1.0,\n",
       "                                     importance_type='split', learning_rate=0.1,\n",
       "                                     max_bin=76, max_depth=11, metrics='rmse',\n",
       "                                     min_child_samples=20,\n",
       "                                     min_child_weight=0.001,\n",
       "                                     min_data_in_leaf=37, min_split_gain=0.0,\n",
       "                                     n_estimators=444, n_jobs=-1, num_leaves=15,\n",
       "                                     objective='...n', random_state=None,\n",
       "                                     reg_alpha=0.0, reg_lambda=0.0, silent=True,\n",
       "                                     subsample=1.0, subsample_for_bin=200000,\n",
       "                                     subsample_freq=0),\n",
       "             iid='warn', n_jobs=-1,\n",
       "             param_grid={'bagging_fraction': [0.85, 0.9, 0.95],\n",
       "                         'bagging_freq': range(4, 8),\n",
       "                         'feature_fraction': [0.6, 0.7, 0.8]},\n",
       "             pre_dispatch='2*n_jobs', refit=True, return_train_score=False,\n",
       "             scoring='neg_mean_squared_error', verbose=0)"
      ]
     },
     "execution_count": 18,
     "metadata": {},
     "output_type": "execute_result"
    },
    {
     "name": "stdout",
     "output_type": "stream",
     "text": [
      "输出最优参数...\n"
     ]
    },
    {
     "data": {
      "text/plain": [
       "{'bagging_fraction': 0.9, 'bagging_freq': 4, 'feature_fraction': 0.7}"
      ]
     },
     "execution_count": 18,
     "metadata": {},
     "output_type": "execute_result"
    },
    {
     "name": "stdout",
     "output_type": "stream",
     "text": [
      "输出最优得分...\n"
     ]
    },
    {
     "data": {
      "text/plain": [
       "-0.06631312083568067"
      ]
     },
     "execution_count": 18,
     "metadata": {},
     "output_type": "execute_result"
    }
   ],
   "source": [
    " params_test3={'feature_fraction': [0.6, 0.7, 0.8],\n",
    "              'bagging_fraction': [0.85, 0.9, 0.95],\n",
    "              'bagging_freq': range(4, 8, 1)\n",
    "}\n",
    "              \n",
    "gsearch1 = GridSearchCV(estimator = LGBMRegressor(boosting_type='gbdt',\n",
    "                                                       objective='regression',\n",
    "                                                       metrics='rmse',\n",
    "                                                       learning_rate=0.1, \n",
    "                                                       n_estimators=444, \n",
    "                                                       max_depth=11, \n",
    "                                                       num_leaves=15,\n",
    "                                                       max_bin=76,\n",
    "                                                       min_data_in_leaf=37,\n",
    "#                                                        bagging_fraction = 0.8,\n",
    "#                                                        feature_fraction = 0.8\n",
    "                                                 ), \n",
    "                       param_grid = params_test3, scoring='neg_mean_squared_error',cv=5,n_jobs=-1)\n",
    "gsearch1.fit(X_train,y_train)\n",
    "print(\"输出最优参数...\")\n",
    "gsearch1.best_params_\n",
    "print(\"输出最优得分...\")\n",
    "gsearch1.best_score_"
   ]
  },
  {
   "cell_type": "markdown",
   "metadata": {},
   "source": [
    "## lambda_l1与lambda_l2"
   ]
  },
  {
   "cell_type": "code",
   "execution_count": 19,
   "metadata": {},
   "outputs": [
    {
     "data": {
      "text/plain": [
       "GridSearchCV(cv=5, error_score='raise-deprecating',\n",
       "             estimator=LGBMRegressor(bagging_fraction=0.9, bagging_freq=4,\n",
       "                                     boosting_type='gbdt', class_weight=None,\n",
       "                                     colsample_bytree=1.0, feature_fraction=0.7,\n",
       "                                     importance_type='split', learning_rate=0.1,\n",
       "                                     max_bin=76, max_depth=11, metrics='rmse',\n",
       "                                     min_child_samples=20,\n",
       "                                     min_child_weight=0.001,\n",
       "                                     min_data_in_leaf=37, min_split_gain...\n",
       "                                     reg_alpha=0.0, reg_lambda=0.0, silent=True,\n",
       "                                     subsample=1.0, subsample_for_bin=200000,\n",
       "                                     subsample_freq=0),\n",
       "             iid='warn', n_jobs=-1,\n",
       "             param_grid={'lambda_l1': [1e-05, 0.001, 0.1, 0.0, 0.1, 0.3, 0.5,\n",
       "                                       0.7, 0.9, 1.0],\n",
       "                         'lambda_l2': [1e-05, 0.001, 0.1, 0.0, 0.1, 0.3, 0.5,\n",
       "                                       0.7, 0.9, 1.0]},\n",
       "             pre_dispatch='2*n_jobs', refit=True, return_train_score=False,\n",
       "             scoring='neg_mean_squared_error', verbose=0)"
      ]
     },
     "execution_count": 19,
     "metadata": {},
     "output_type": "execute_result"
    },
    {
     "name": "stdout",
     "output_type": "stream",
     "text": [
      "输出最优参数...\n"
     ]
    },
    {
     "data": {
      "text/plain": [
       "{'lambda_l1': 0.001, 'lambda_l2': 0.7}"
      ]
     },
     "execution_count": 19,
     "metadata": {},
     "output_type": "execute_result"
    },
    {
     "name": "stdout",
     "output_type": "stream",
     "text": [
      "输出最优得分...\n"
     ]
    },
    {
     "data": {
      "text/plain": [
       "-0.06594850955883236"
      ]
     },
     "execution_count": 19,
     "metadata": {},
     "output_type": "execute_result"
    }
   ],
   "source": [
    "params_test4={'lambda_l1': [1e-5,1e-3,1e-1,0.0,0.1,0.3,0.5,0.7,0.9,1.0],\n",
    "              'lambda_l2': [1e-5,1e-3,1e-1,0.0,0.1,0.3,0.5,0.7,0.9,1.0]\n",
    "}\n",
    "              \n",
    "gsearch1 = GridSearchCV(estimator = LGBMRegressor(boosting_type='gbdt',\n",
    "                                                       objective='regression',\n",
    "                                                       metrics='rmse',\n",
    "                                                       learning_rate=0.1, \n",
    "                                                       n_estimators=444, \n",
    "                                                       max_depth=11, \n",
    "                                                       num_leaves=15,\n",
    "                                                       max_bin=76,\n",
    "                                                       min_data_in_leaf=37,\n",
    "                                                       bagging_fraction = 0.9,\n",
    "                                                       feature_fraction = 0.7,\n",
    "                                                       bagging_freq = 4,\n",
    "                                                 ), \n",
    "                       param_grid = params_test4, scoring='neg_mean_squared_error',cv=5,n_jobs=-1)\n",
    "gsearch1.fit(X_train,y_train)\n",
    "print(\"输出最优参数...\")\n",
    "gsearch1.best_params_\n",
    "print(\"输出最优得分...\")\n",
    "gsearch1.best_score_"
   ]
  },
  {
   "cell_type": "markdown",
   "metadata": {},
   "source": [
    "## min_split_gain"
   ]
  },
  {
   "cell_type": "code",
   "execution_count": 20,
   "metadata": {},
   "outputs": [
    {
     "data": {
      "text/plain": [
       "GridSearchCV(cv=5, error_score='raise-deprecating',\n",
       "             estimator=LGBMRegressor(bagging_fraction=0.9, bagging_freq=4,\n",
       "                                     boosting_type='gbdt', class_weight=None,\n",
       "                                     colsample_bytree=1.0, feature_fraction=0.7,\n",
       "                                     importance_type='split', lambda_l1=0.01,\n",
       "                                     lambda_l2=0.7, learning_rate=0.1,\n",
       "                                     max_bin=76, max_depth=11, metrics='rmse',\n",
       "                                     min_child_samples=20,\n",
       "                                     min_child_weight=0.001,\n",
       "                                     min_d...\n",
       "                                     n_estimators=444, n_jobs=-1, num_leaves=15,\n",
       "                                     objective='regression', random_state=None,\n",
       "                                     reg_alpha=0.0, reg_lambda=0.0, silent=True,\n",
       "                                     subsample=1.0, subsample_for_bin=200000,\n",
       "                                     subsample_freq=0),\n",
       "             iid='warn', n_jobs=-1,\n",
       "             param_grid={'min_split_gain': [0.0, 0.1, 0.2, 0.3, 0.4, 0.5, 0.6,\n",
       "                                            0.7, 0.8, 0.9, 1.0]},\n",
       "             pre_dispatch='2*n_jobs', refit=True, return_train_score=False,\n",
       "             scoring='neg_mean_squared_error', verbose=0)"
      ]
     },
     "execution_count": 20,
     "metadata": {},
     "output_type": "execute_result"
    },
    {
     "name": "stdout",
     "output_type": "stream",
     "text": [
      "输出最优参数...\n"
     ]
    },
    {
     "data": {
      "text/plain": [
       "{'min_split_gain': 0.0}"
      ]
     },
     "execution_count": 20,
     "metadata": {},
     "output_type": "execute_result"
    },
    {
     "name": "stdout",
     "output_type": "stream",
     "text": [
      "输出最优得分...\n"
     ]
    },
    {
     "data": {
      "text/plain": [
       "-0.06725417569636875"
      ]
     },
     "execution_count": 20,
     "metadata": {},
     "output_type": "execute_result"
    }
   ],
   "source": [
    "params_test5={'min_split_gain':[0.0,0.1,0.2,0.3,0.4,0.5,0.6,0.7,0.8,0.9,1.0]}\n",
    "              \n",
    "gsearch1 = GridSearchCV(estimator = LGBMRegressor(boosting_type='gbdt',\n",
    "                                                       objective='regression',\n",
    "                                                       metrics='rmse',\n",
    "                                                       learning_rate=0.1, \n",
    "                                                       n_estimators=444, \n",
    "                                                       max_depth=11, \n",
    "                                                       num_leaves=15,\n",
    "                                                       max_bin=76,\n",
    "                                                       min_data_in_leaf=37,\n",
    "                                                       bagging_fraction = 0.9,\n",
    "                                                       feature_fraction = 0.7,\n",
    "                                                       bagging_freq = 4,\n",
    "                                                       lambda_l1=0.01,\n",
    "                                                       lambda_l2=0.7\n",
    "                                                 ), \n",
    "                       param_grid = params_test5, scoring='neg_mean_squared_error',cv=5,n_jobs=-1)\n",
    "gsearch1.fit(X_train,y_train)\n",
    "print(\"输出最优参数...\")\n",
    "gsearch1.best_params_\n",
    "print(\"输出最优得分...\")\n",
    "gsearch1.best_score_"
   ]
  },
  {
   "cell_type": "markdown",
   "metadata": {},
   "source": [
    "# 分析与预测"
   ]
  },
  {
   "cell_type": "code",
   "execution_count": 21,
   "metadata": {},
   "outputs": [
    {
     "name": "stdout",
     "output_type": "stream",
     "text": [
      "LGB交叉验证...\n"
     ]
    },
    {
     "name": "stderr",
     "output_type": "stream",
     "text": [
      "C:\\ProgramData\\Anaconda3\\lib\\site-packages\\lightgbm\\engine.py:502: UserWarning: Found `n_estimators` in params. Will use it instead of argument\n",
      "  warnings.warn(\"Found `{}` in params. Will use it instead of argument\".format(alias))\n",
      "C:\\ProgramData\\Anaconda3\\lib\\site-packages\\lightgbm\\basic.py:794: UserWarning: silent keyword has been found in `params` and will be ignored.\n",
      "Please use silent argument of the Dataset constructor to pass this parameter.\n",
      "  .format(key))\n"
     ]
    },
    {
     "name": "stdout",
     "output_type": "stream",
     "text": [
      "[500]\tcv_agg's rmse: 0.340906\n",
      "[1000]\tcv_agg's rmse: 0.332952\n",
      "[1500]\tcv_agg's rmse: 0.330916\n",
      "[2000]\tcv_agg's rmse: 0.330007\n",
      "[2500]\tcv_agg's rmse: 0.329539\n",
      "[3000]\tcv_agg's rmse: 0.329192\n",
      "[3500]\tcv_agg's rmse: 0.329103\n"
     ]
    },
    {
     "data": {
      "text/plain": [
       "LGBMRegressor(bagging_fraction=0.9, bagging_freq=4, boosting_type='gbdt',\n",
       "              class_weight=None, colsample_bytree=1.0, feature_fraction=0.7,\n",
       "              importance_type='split', lambda_l1=0.01, lambda_l2=0.7,\n",
       "              learning_rate=0.01, max_bin=76, max_depth=11, metrics='rmse',\n",
       "              min_child_samples=20, min_child_weight=0.001, min_data_in_leaf=37,\n",
       "              min_split_gain=0, n_estimators=3416, n_jobs=-1, num_leaves=15,\n",
       "              objective='regression', random_state=None, reg_alpha=0.0,\n",
       "              reg_lambda=0.0, seed=2020002, silent=True, subsample=1.0,\n",
       "              subsample_for_bin=200000, subsample_freq=0)"
      ]
     },
     "execution_count": 21,
     "metadata": {},
     "output_type": "execute_result"
    },
    {
     "name": "stdout",
     "output_type": "stream",
     "text": [
      "LGB训练...\n"
     ]
    },
    {
     "data": {
      "text/plain": [
       "LGBMRegressor(bagging_fraction=0.9, bagging_freq=4, boosting_type='gbdt',\n",
       "              class_weight=None, colsample_bytree=1.0, feature_fraction=0.7,\n",
       "              importance_type='split', lambda_l1=0.01, lambda_l2=0.7,\n",
       "              learning_rate=0.01, max_bin=76, max_depth=11, metrics='rmse',\n",
       "              min_child_samples=20, min_child_weight=0.001, min_data_in_leaf=37,\n",
       "              min_split_gain=0, n_estimators=3416, n_jobs=-1, num_leaves=15,\n",
       "              objective='regression', random_state=None, reg_alpha=0.0,\n",
       "              reg_lambda=0.0, seed=2020002, silent=True, subsample=1.0,\n",
       "              subsample_for_bin=200000, subsample_freq=0)"
      ]
     },
     "execution_count": 21,
     "metadata": {},
     "output_type": "execute_result"
    },
    {
     "name": "stdout",
     "output_type": "stream",
     "text": [
      "训练集MSE： 0.014218697485650723\n",
      "LGB迭代次数... 3416\n",
      "LGB训练集预测...\n",
      "LGB测试集预测...\n",
      "LGB的特征重要性...\n"
     ]
    },
    {
     "data": {
      "text/plain": [
       "<Figure size 864x432 with 0 Axes>"
      ]
     },
     "execution_count": 21,
     "metadata": {},
     "output_type": "execute_result"
    },
    {
     "data": {
      "text/plain": [
       "<matplotlib.axes._subplots.AxesSubplot object at 0x000001FA2DDDE128>"
      ]
     },
     "execution_count": 21,
     "metadata": {},
     "output_type": "execute_result"
    },
    {
     "data": {
      "text/plain": [
       "Text(0.5,1,'Featurertances')"
      ]
     },
     "execution_count": 21,
     "metadata": {},
     "output_type": "execute_result"
    },
    {
     "data": {
      "text/plain": [
       "<Figure size 864x432 with 0 Axes>"
      ]
     },
     "metadata": {},
     "output_type": "display_data"
    },
    {
     "data": {
      "image/png": "[encoded data removed]",
      "text/plain": [
       "<Figure size 432x288 with 1 Axes>"
      ]
     },
     "metadata": {},
     "output_type": "display_data"
    }
   ],
   "source": [
    "train, test, features, category_feature = load_data(dt=dt, m_type='xgb-model')\n",
    "\n",
    "lgbRegr = LGBMRegressor(\n",
    "boosting_type='gbdt',\n",
    "                                                       objective='regression',\n",
    "                                                       metrics='rmse',\n",
    "                                                       learning_rate=0.01, \n",
    "                                                       n_estimators=8000, \n",
    "                                                       max_depth=11, \n",
    "                                                       num_leaves=15,\n",
    "                                                       max_bin=76,\n",
    "                                                       min_data_in_leaf=37,\n",
    "                                                       bagging_fraction = 0.9,\n",
    "                                                       feature_fraction = 0.7,\n",
    "                                                       bagging_freq = 4,\n",
    "                                                       lambda_l1=0.01,\n",
    "                                                       lambda_l2=0.7,\n",
    "                                                       min_split_gain=0,\n",
    "    seed=2020002)\n",
    "print('LGB交叉验证...')\n",
    "lgb_param = lgbRegr.get_params()\n",
    "    \n",
    "dtrain = lgb.Dataset(dt.loc[dt.isTrain==1].iloc[:, 0:-2].values, dt.loc[dt.isTrain==1, goal].values)\n",
    "\n",
    "cvresult = lgb.cv(lgb_param, \n",
    "                  dtrain,\n",
    "                  num_boost_round=lgbRegr.get_params()['n_estimators'], \n",
    "                  nfold=3, \n",
    "                  metrics='rmse',\n",
    "                  early_stopping_rounds=200, \n",
    "                  verbose_eval=500, \n",
    "                  show_stdv=False, \n",
    "                  seed=202002, \n",
    "                  callbacks=None, \n",
    "                  stratified=False,\n",
    "                  shuffle=True)\n",
    "lgbRegr.set_params(n_estimators=len(cvresult['rmse-mean']))\n",
    "print('LGB训练...')\n",
    "lgbRegr.fit(train[features], train[goal], eval_metric='rmse')\n",
    "print('训练集MSE：', mean_squared_error(y_true=train[goal], y_pred=lgbRegr.predict(train[features])) )\n",
    "print('LGB迭代次数...', lgbRegr.n_estimators)\n",
    "\n",
    "print('LGB训练集预测...')\n",
    "train_target_pre = lgbRegr.predict(train[features])\n",
    "\n",
    "print('LGB测试集预测...')\n",
    "test_target_pre = lgbRegr.predict(test[features])\n",
    "\n",
    "#Plot feature importance \n",
    "print('LGB的特征重要性...')\n",
    "\n",
    "plt.figure(figsize=(12,6))\n",
    "lgb.plot_importance(lgbRegr, max_num_features=30)\n",
    "plt.title(\"Featurertances\")\n",
    "plt.show()"
   ]
  },
  {
   "cell_type": "markdown",
   "metadata": {},
   "source": [
    "# 去异常后与真实值对比"
   ]
  },
  {
   "cell_type": "code",
   "execution_count": 22,
   "metadata": {},
   "outputs": [
    {
     "data": {
      "text/plain": [
       "<matplotlib.collections.PathCollection object at 0x000001FA320FE160>"
      ]
     },
     "execution_count": 22,
     "metadata": {},
     "output_type": "execute_result"
    },
    {
     "data": {
      "image/png": "[encoded data removed]",
      "text/plain": [
       "<Figure size 432x288 with 1 Axes>"
      ]
     },
     "metadata": {},
     "output_type": "display_data"
    }
   ],
   "source": [
    "plt.scatter(train_target_pre, train.target)"
   ]
  },
  {
   "cell_type": "markdown",
   "metadata": {},
   "source": [
    "# 保存结果"
   ]
  },
  {
   "cell_type": "code",
   "execution_count": 23,
   "metadata": {},
   "outputs": [],
   "source": [
    "submission2 = pd.DataFrame({goal: test_target_pre})\n",
    "submission2.to_csv(\"../result/sample_submit05-xxx-lgb-delOutlies.txt\", sep='\\t', index=False, header=False)"
   ]
  },
  {
   "cell_type": "markdown",
   "metadata": {},
   "source": [
    "# 去异常的xgb与lgb融合"
   ]
  },
  {
   "cell_type": "code",
   "execution_count": 24,
   "metadata": {},
   "outputs": [],
   "source": [
    "submission1 = pd.read_table('../result/sample_submit04-1328-xgb-delOutlies.txt', sep='\\t', header=None, names=None, index_col=None)\n",
    "submission1.columns = [goal]\n"
   ]
  },
  {
   "cell_type": "code",
   "execution_count": 25,
   "metadata": {},
   "outputs": [],
   "source": [
    "submission3 = pd.DataFrame({goal: (1/3*submission2.target.values + 2/3*submission1.target.values ) })\n",
    "submission3.to_csv(\"../result/sample_submit06-xxxx-2_3xgb_delOutlies-1_3lgbm_delOutlies.txt\", sep='\\t', index=False, header=False)"
   ]
  },
  {
   "cell_type": "code",
   "execution_count": null,
   "metadata": {},
   "outputs": [],
   "source": []
  },
  {
   "cell_type": "code",
   "execution_count": null,
   "metadata": {},
   "outputs": [],
   "source": []
  },
  {
   "cell_type": "code",
   "execution_count": null,
   "metadata": {},
   "outputs": [],
   "source": []
  }
 ],
 "metadata": {
  "kernelspec": {
   "display_name": "Python 3",
   "language": "python",
   "name": "python3"
  },
  "language_info": {
   "codemirror_mode": {
    "name": "ipython",
    "version": 3
   },
   "file_extension": ".py",
   "mimetype": "text/x-python",
   "name": "python",
   "nbconvert_exporter": "python",
   "pygments_lexer": "ipython3",
   "version": "3.6.5"
  },
  "latex_envs": {
   "LaTeX_envs_menu_present": true,
   "autoclose": false,
   "autocomplete": true,
   "bibliofile": "biblio.bib",
   "cite_by": "apalike",
   "current_citInitial": 1,
   "eqLabelWithNumbers": true,
   "eqNumInitial": 1,
   "hotkeys": {
    "equation": "Ctrl-E",
    "itemize": "Ctrl-I"
   },
   "labels_anchors": false,
   "latex_user_defs": false,
   "report_style_numbering": false,
   "user_envs_cfg": false
  },
  "toc": {
   "base_numbering": 1,
   "nav_menu": {},
   "number_sections": true,
   "sideBar": true,
   "skip_h1_title": false,
   "title_cell": "Table of Contents",
   "title_sidebar": "Contents",
   "toc_cell": false,
   "toc_position": {},
   "toc_section_display": true,
   "toc_window_display": false
  }
 },
 "nbformat": 4,
 "nbformat_minor": 2
}
