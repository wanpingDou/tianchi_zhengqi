{
 "cells": [
  {
   "cell_type": "code",
   "execution_count": 8,
   "metadata": {},
   "outputs": [
    {
     "name": "stdout",
     "output_type": "stream",
     "text": [
      "Pretty printing has been turned ON\n"
     ]
    }
   ],
   "source": [
    "import pandas as pd\n",
    "import seaborn as sns\n",
    "import matplotlib.pyplot as plt\n",
    "%matplotlib inline\n",
    "%config ZMQInteractiveShell.ast_node_interactivity='all'\n",
    "%pprint"
   ]
  },
  {
   "cell_type": "code",
   "execution_count": 9,
   "metadata": {},
   "outputs": [],
   "source": [
    "# 大小设置\n",
    "sns.set(rc={'figure.figsize':(13,7)})\n",
    "# 风格设置\n",
    "sns.set_style(\"whitegrid\")\n",
    "\n",
    "goal = 'target'"
   ]
  },
  {
   "cell_type": "markdown",
   "metadata": {},
   "source": [
    "- 目的：将不错的模型进行加权融合。\n",
    "- 思路：RF、GBDT、XGBoost常见面试题整理https://zhuanlan.zhihu.com/p/34679467\n",
    "- 强化版：\n",
    "       GBDT对异常值敏感，RF对异常值不敏感；\n",
    "       随机森林是通过减少模型的方差来提高性能，而GBDT是减少模型的偏差来提高性能；\n",
    "       随机森林不需要进行数据预处理，即特征归一化。而GBDT则需要进行特征归一化。\n"
   ]
  },
  {
   "cell_type": "markdown",
   "metadata": {},
   "source": [
    "# 加载预测数据\n",
    "\n",
    "- sample_submit04-1328-xgb-delOutlies.txt：去异常且调过参之后的xgb结果。\n",
    "- sample_submit05-1399-lgb-delOutlies.txt：去异常且调过参之后的lgb结果。\n",
    "- sample_submit07-1284-rf.txt：未去异常、调过参之后的RF结果"
   ]
  },
  {
   "cell_type": "code",
   "execution_count": 2,
   "metadata": {},
   "outputs": [],
   "source": [
    "submission4 = pd.read_table('../result/sample_submit04-1328-xgb-delOutlies.txt', sep='\\t', header=None, names=None, index_col=None)\n",
    "submission4.columns = [goal]\n",
    "submission5 = pd.read_table('../result/sample_submit05-1399-lgb-delOutlies.txt', sep='\\t', header=None, names=None, index_col=None)\n",
    "submission5.columns = [goal]\n",
    "submission7 = pd.read_table('../result/sample_submit07-1284-rf.txt', sep='\\t', header=None, names=None, index_col=None)\n",
    "submission7.columns = [goal]\n"
   ]
  },
  {
   "cell_type": "code",
   "execution_count": 4,
   "metadata": {},
   "outputs": [],
   "source": [
    "xgb_lgb_rf_data = pd.DataFrame({\"submission4\": submission4.target, \n",
    "                                \"submission5\":submission5.target, \n",
    "                                \"submission7\":submission7.target})"
   ]
  },
  {
   "cell_type": "code",
   "execution_count": 5,
   "metadata": {},
   "outputs": [
    {
     "data": {
      "text/html": [
       "<div>\n",
       "<style scoped>\n",
       "    .dataframe tbody tr th:only-of-type {\n",
       "        vertical-align: middle;\n",
       "    }\n",
       "\n",
       "    .dataframe tbody tr th {\n",
       "        vertical-align: top;\n",
       "    }\n",
       "\n",
       "    .dataframe thead th {\n",
       "        text-align: right;\n",
       "    }\n",
       "</style>\n",
       "<table border=\"1\" class=\"dataframe\">\n",
       "  <thead>\n",
       "    <tr style=\"text-align: right;\">\n",
       "      <th></th>\n",
       "      <th>submission4</th>\n",
       "      <th>submission5</th>\n",
       "      <th>submission7</th>\n",
       "    </tr>\n",
       "  </thead>\n",
       "  <tbody>\n",
       "    <tr>\n",
       "      <td>0</td>\n",
       "      <td>0.425871</td>\n",
       "      <td>0.494140</td>\n",
       "      <td>0.311136</td>\n",
       "    </tr>\n",
       "    <tr>\n",
       "      <td>1</td>\n",
       "      <td>0.224224</td>\n",
       "      <td>0.377177</td>\n",
       "      <td>0.199580</td>\n",
       "    </tr>\n",
       "    <tr>\n",
       "      <td>2</td>\n",
       "      <td>0.048237</td>\n",
       "      <td>0.148564</td>\n",
       "      <td>-0.027754</td>\n",
       "    </tr>\n",
       "    <tr>\n",
       "      <td>3</td>\n",
       "      <td>0.177480</td>\n",
       "      <td>0.380818</td>\n",
       "      <td>0.111690</td>\n",
       "    </tr>\n",
       "    <tr>\n",
       "      <td>4</td>\n",
       "      <td>0.344722</td>\n",
       "      <td>0.457303</td>\n",
       "      <td>0.300254</td>\n",
       "    </tr>\n",
       "  </tbody>\n",
       "</table>\n",
       "</div>"
      ],
      "text/plain": [
       "   submission4  submission5  submission7\n",
       "0     0.425871     0.494140     0.311136\n",
       "1     0.224224     0.377177     0.199580\n",
       "2     0.048237     0.148564    -0.027754\n",
       "3     0.177480     0.380818     0.111690\n",
       "4     0.344722     0.457303     0.300254"
      ]
     },
     "execution_count": 5,
     "metadata": {},
     "output_type": "execute_result"
    }
   ],
   "source": [
    "xgb_lgb_rf_data.head()"
   ]
  },
  {
   "cell_type": "code",
   "execution_count": 15,
   "metadata": {},
   "outputs": [
    {
     "data": {
      "text/plain": [
       "<matplotlib.collections.PathCollection at 0x26792cb2630>"
      ]
     },
     "execution_count": 15,
     "metadata": {},
     "output_type": "execute_result"
    },
    {
     "data": {
      "image/png": "[encoded data removed]",
      "text/plain": [
       "<Figure size 936x504 with 1 Axes>"
      ]
     },
     "metadata": {},
     "output_type": "display_data"
    }
   ],
   "source": [
    "merge_res = 2/3*xgb_lgb_rf_data.submission7 + 1/9*xgb_lgb_rf_data.submission4 + 2/9*xgb_lgb_rf_data.submission5\n",
    "plt.scatter(xgb_lgb_rf_data.submission7, merge_res)"
   ]
  },
  {
   "cell_type": "code",
   "execution_count": 16,
   "metadata": {},
   "outputs": [],
   "source": [
    "submission = pd.DataFrame({goal: merge_res})\n",
    "submission.to_csv(\"../result/sample_submit08-xxxx-1_9subm4-2_9subm5-6_9subm7.txt\", sep='\\t', index=False, header=False)"
   ]
  }
 ],
 "metadata": {
  "kernelspec": {
   "display_name": "Python 3",
   "language": "python",
   "name": "python3"
  },
  "language_info": {
   "codemirror_mode": {
    "name": "ipython",
    "version": 3
   },
   "file_extension": ".py",
   "mimetype": "text/x-python",
   "name": "python",
   "nbconvert_exporter": "python",
   "pygments_lexer": "ipython3",
   "version": "3.6.5"
  },
  "latex_envs": {
   "LaTeX_envs_menu_present": true,
   "autoclose": false,
   "autocomplete": true,
   "bibliofile": "biblio.bib",
   "cite_by": "apalike",
   "current_citInitial": 1,
   "eqLabelWithNumbers": true,
   "eqNumInitial": 1,
   "hotkeys": {
    "equation": "Ctrl-E",
    "itemize": "Ctrl-I"
   },
   "labels_anchors": false,
   "latex_user_defs": false,
   "report_style_numbering": false,
   "user_envs_cfg": false
  },
  "toc": {
   "base_numbering": 1,
   "nav_menu": {},
   "number_sections": true,
   "sideBar": true,
   "skip_h1_title": false,
   "title_cell": "Table of Contents",
   "title_sidebar": "Contents",
   "toc_cell": false,
   "toc_position": {},
   "toc_section_display": true,
   "toc_window_display": false
  }
 },
 "nbformat": 4,
 "nbformat_minor": 2
}
