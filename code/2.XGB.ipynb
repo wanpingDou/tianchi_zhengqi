{
 "cells": [
  {
   "cell_type": "code",
   "execution_count": 18,
   "metadata": {},
   "outputs": [
    {
     "name": "stdout",
     "output_type": "stream",
     "text": [
      "Pretty printing has been turned ON\n"
     ]
    }
   ],
   "source": [
    "import pandas as pd\n",
    "import datetime\n",
    "import csv\n",
    "import numpy as np\n",
    "import os\n",
    "import scipy as sp\n",
    "import xgboost as xgb\n",
    "import lightgbm as lgb\n",
    "import itertools\n",
    "import operator\n",
    "import math\n",
    "import warnings\n",
    "warnings.filterwarnings(\"ignore\")\n",
    "from scipy import stats \n",
    "from sklearn.preprocessing import StandardScaler, LabelEncoder\n",
    "from sklearn.base import TransformerMixin\n",
    "from sklearn.model_selection import train_test_split\n",
    "from sklearn.metrics import mean_absolute_error, mean_squared_error\n",
    "from sklearn.model_selection import cross_val_score\n",
    "from sklearn.model_selection import GridSearchCV\n",
    "from sklearn.model_selection import StratifiedKFold\n",
    "from xgboost.sklearn import XGBRegressor\n",
    "from lightgbm.sklearn import LGBMRegressor\n",
    "from sklearn.externals import joblib\n",
    "from xgboost import plot_importance\n",
    "\n",
    "import seaborn as sns\n",
    "import matplotlib.pyplot as plt\n",
    "%matplotlib inline\n",
    "%config ZMQInteractiveShell.ast_node_interactivity='all'\n",
    "%pprint\n",
    "\n",
    "# 大小设置\n",
    "sns.set(rc={'figure.figsize':(13,7)})\n",
    "# 风格设置\n",
    "sns.set_style(\"whitegrid\")\n",
    "\n",
    "goal = 'target'\n"
   ]
  },
  {
   "cell_type": "markdown",
   "metadata": {},
   "source": [
    "# 导入数据"
   ]
  },
  {
   "cell_type": "code",
   "execution_count": 2,
   "metadata": {},
   "outputs": [
    {
     "data": {
      "text/html": [
       "<div>\n",
       "<style scoped>\n",
       "    .dataframe tbody tr th:only-of-type {\n",
       "        vertical-align: middle;\n",
       "    }\n",
       "\n",
       "    .dataframe tbody tr th {\n",
       "        vertical-align: top;\n",
       "    }\n",
       "\n",
       "    .dataframe thead th {\n",
       "        text-align: right;\n",
       "    }\n",
       "</style>\n",
       "<table border=\"1\" class=\"dataframe\">\n",
       "  <thead>\n",
       "    <tr style=\"text-align: right;\">\n",
       "      <th></th>\n",
       "      <th>V0</th>\n",
       "      <th>V1</th>\n",
       "      <th>V2</th>\n",
       "      <th>V3</th>\n",
       "      <th>V4</th>\n",
       "      <th>V5</th>\n",
       "      <th>V6</th>\n",
       "      <th>V7</th>\n",
       "      <th>V8</th>\n",
       "      <th>V9</th>\n",
       "      <th>...</th>\n",
       "      <th>V29</th>\n",
       "      <th>V30</th>\n",
       "      <th>V31</th>\n",
       "      <th>V32</th>\n",
       "      <th>V33</th>\n",
       "      <th>V34</th>\n",
       "      <th>V35</th>\n",
       "      <th>V36</th>\n",
       "      <th>V37</th>\n",
       "      <th>target</th>\n",
       "    </tr>\n",
       "  </thead>\n",
       "  <tbody>\n",
       "    <tr>\n",
       "      <td>0</td>\n",
       "      <td>0.566</td>\n",
       "      <td>0.016</td>\n",
       "      <td>-0.143</td>\n",
       "      <td>0.407</td>\n",
       "      <td>0.452</td>\n",
       "      <td>-0.901</td>\n",
       "      <td>-1.812</td>\n",
       "      <td>-2.36</td>\n",
       "      <td>-0.436</td>\n",
       "      <td>-2.114</td>\n",
       "      <td>...</td>\n",
       "      <td>0.136</td>\n",
       "      <td>0.109</td>\n",
       "      <td>-0.615</td>\n",
       "      <td>0.327</td>\n",
       "      <td>-4.627</td>\n",
       "      <td>-4.789</td>\n",
       "      <td>-5.101</td>\n",
       "      <td>-2.608</td>\n",
       "      <td>-3.508</td>\n",
       "      <td>0.175</td>\n",
       "    </tr>\n",
       "    <tr>\n",
       "      <td>1</td>\n",
       "      <td>0.968</td>\n",
       "      <td>0.437</td>\n",
       "      <td>0.066</td>\n",
       "      <td>0.566</td>\n",
       "      <td>0.194</td>\n",
       "      <td>-0.893</td>\n",
       "      <td>-1.566</td>\n",
       "      <td>-2.36</td>\n",
       "      <td>0.332</td>\n",
       "      <td>-2.114</td>\n",
       "      <td>...</td>\n",
       "      <td>-0.128</td>\n",
       "      <td>0.124</td>\n",
       "      <td>0.032</td>\n",
       "      <td>0.600</td>\n",
       "      <td>-0.843</td>\n",
       "      <td>0.160</td>\n",
       "      <td>0.364</td>\n",
       "      <td>-0.335</td>\n",
       "      <td>-0.730</td>\n",
       "      <td>0.676</td>\n",
       "    </tr>\n",
       "  </tbody>\n",
       "</table>\n",
       "<p>2 rows × 39 columns</p>\n",
       "</div>"
      ],
      "text/plain": [
       "      V0     V1     V2     V3     V4     V5     V6    V7     V8     V9  ...  \\\n",
       "0  0.566  0.016 -0.143  0.407  0.452 -0.901 -1.812 -2.36 -0.436 -2.114  ...   \n",
       "1  0.968  0.437  0.066  0.566  0.194 -0.893 -1.566 -2.36  0.332 -2.114  ...   \n",
       "\n",
       "     V29    V30    V31    V32    V33    V34    V35    V36    V37  target  \n",
       "0  0.136  0.109 -0.615  0.327 -4.627 -4.789 -5.101 -2.608 -3.508   0.175  \n",
       "1 -0.128  0.124  0.032  0.600 -0.843  0.160  0.364 -0.335 -0.730   0.676  \n",
       "\n",
       "[2 rows x 39 columns]"
      ]
     },
     "execution_count": 2,
     "metadata": {},
     "output_type": "execute_result"
    }
   ],
   "source": [
    "df_train = pd.read_table('../data/zhengqi_train.txt', sep='\\t')\n",
    "df_train.head(2)"
   ]
  },
  {
   "cell_type": "code",
   "execution_count": 3,
   "metadata": {},
   "outputs": [
    {
     "data": {
      "text/html": [
       "<div>\n",
       "<style scoped>\n",
       "    .dataframe tbody tr th:only-of-type {\n",
       "        vertical-align: middle;\n",
       "    }\n",
       "\n",
       "    .dataframe tbody tr th {\n",
       "        vertical-align: top;\n",
       "    }\n",
       "\n",
       "    .dataframe thead th {\n",
       "        text-align: right;\n",
       "    }\n",
       "</style>\n",
       "<table border=\"1\" class=\"dataframe\">\n",
       "  <thead>\n",
       "    <tr style=\"text-align: right;\">\n",
       "      <th></th>\n",
       "      <th>V0</th>\n",
       "      <th>V1</th>\n",
       "      <th>V2</th>\n",
       "      <th>V3</th>\n",
       "      <th>V4</th>\n",
       "      <th>V5</th>\n",
       "      <th>V6</th>\n",
       "      <th>V7</th>\n",
       "      <th>V8</th>\n",
       "      <th>V9</th>\n",
       "      <th>...</th>\n",
       "      <th>V28</th>\n",
       "      <th>V29</th>\n",
       "      <th>V30</th>\n",
       "      <th>V31</th>\n",
       "      <th>V32</th>\n",
       "      <th>V33</th>\n",
       "      <th>V34</th>\n",
       "      <th>V35</th>\n",
       "      <th>V36</th>\n",
       "      <th>V37</th>\n",
       "    </tr>\n",
       "  </thead>\n",
       "  <tbody>\n",
       "    <tr>\n",
       "      <td>0</td>\n",
       "      <td>0.368</td>\n",
       "      <td>0.380</td>\n",
       "      <td>-0.225</td>\n",
       "      <td>-0.049</td>\n",
       "      <td>0.379</td>\n",
       "      <td>0.092</td>\n",
       "      <td>0.550</td>\n",
       "      <td>0.551</td>\n",
       "      <td>0.244</td>\n",
       "      <td>0.904</td>\n",
       "      <td>...</td>\n",
       "      <td>-0.449</td>\n",
       "      <td>0.047</td>\n",
       "      <td>0.057</td>\n",
       "      <td>-0.042</td>\n",
       "      <td>0.847</td>\n",
       "      <td>0.534</td>\n",
       "      <td>-0.009</td>\n",
       "      <td>-0.190</td>\n",
       "      <td>-0.567</td>\n",
       "      <td>0.388</td>\n",
       "    </tr>\n",
       "    <tr>\n",
       "      <td>1</td>\n",
       "      <td>0.148</td>\n",
       "      <td>0.489</td>\n",
       "      <td>-0.247</td>\n",
       "      <td>-0.049</td>\n",
       "      <td>0.122</td>\n",
       "      <td>-0.201</td>\n",
       "      <td>0.487</td>\n",
       "      <td>0.493</td>\n",
       "      <td>-0.127</td>\n",
       "      <td>0.904</td>\n",
       "      <td>...</td>\n",
       "      <td>-0.443</td>\n",
       "      <td>0.047</td>\n",
       "      <td>0.560</td>\n",
       "      <td>0.176</td>\n",
       "      <td>0.551</td>\n",
       "      <td>0.046</td>\n",
       "      <td>-0.220</td>\n",
       "      <td>0.008</td>\n",
       "      <td>-0.294</td>\n",
       "      <td>0.104</td>\n",
       "    </tr>\n",
       "  </tbody>\n",
       "</table>\n",
       "<p>2 rows × 38 columns</p>\n",
       "</div>"
      ],
      "text/plain": [
       "      V0     V1     V2     V3     V4     V5     V6     V7     V8     V9  ...  \\\n",
       "0  0.368  0.380 -0.225 -0.049  0.379  0.092  0.550  0.551  0.244  0.904  ...   \n",
       "1  0.148  0.489 -0.247 -0.049  0.122 -0.201  0.487  0.493 -0.127  0.904  ...   \n",
       "\n",
       "     V28    V29    V30    V31    V32    V33    V34    V35    V36    V37  \n",
       "0 -0.449  0.047  0.057 -0.042  0.847  0.534 -0.009 -0.190 -0.567  0.388  \n",
       "1 -0.443  0.047  0.560  0.176  0.551  0.046 -0.220  0.008 -0.294  0.104  \n",
       "\n",
       "[2 rows x 38 columns]"
      ]
     },
     "execution_count": 3,
     "metadata": {},
     "output_type": "execute_result"
    }
   ],
   "source": [
    "df_test = pd.read_table('../data/zhengqi_test.txt', sep='\\t')\n",
    "df_test.head(2)"
   ]
  },
  {
   "cell_type": "code",
   "execution_count": 4,
   "metadata": {},
   "outputs": [],
   "source": [
    "df_test[\"target\"] = 0\n",
    "df_train[\"isTrain\"] = 1\n",
    "df_test[\"isTrain\"] = 0\n",
    "dt = pd.concat([df_train, df_test], ignore_index=True)"
   ]
  },
  {
   "cell_type": "markdown",
   "metadata": {},
   "source": [
    "# 加载数据"
   ]
  },
  {
   "cell_type": "code",
   "execution_count": 5,
   "metadata": {},
   "outputs": [],
   "source": [
    "def load_data(dt=dt, m_type = 'xgb-model'):\n",
    "    \"\"\"\n",
    "        加载数据，输出放入模型的特征features列表以及特征列表中是类别型的列表cate_feat\n",
    "        对cate_feat进行了LabelEncoder，针对LGB增加category转化\n",
    "    \"\"\"\n",
    "    # 参考资料：树模型LabelEncoder——https://www.cnblogs.com/ranjiewen/p/9105954.html:\n",
    "\n",
    "    noise_feature = [goal, 'isTrain']\n",
    "    category_feature = []\n",
    "    numeric_feature = [i for i in dt.columns if i not in category_feature + noise_feature]\n",
    "    \n",
    "    lbl = LabelEncoder()  \n",
    "    for col in category_feature:\n",
    "        dt[col] = lbl.fit_transform(dt[col].astype(str))\n",
    "    if m_type == 'lgb-model':\n",
    "        for catf in category_feature:\n",
    "            dt[catf] = dt[catf].astype('category')         \n",
    "    features = numeric_feature + category_feature\n",
    "    train = dt[dt.isTrain==1]\n",
    "    test = dt[dt.isTrain==0]\n",
    "\n",
    "\n",
    "    return (train, test, features, category_feature)"
   ]
  },
  {
   "cell_type": "markdown",
   "metadata": {},
   "source": [
    "# 调参"
   ]
  },
  {
   "cell_type": "markdown",
   "metadata": {},
   "source": [
    "## 迭代轮数确认"
   ]
  },
  {
   "cell_type": "code",
   "execution_count": 10,
   "metadata": {},
   "outputs": [
    {
     "name": "stdout",
     "output_type": "stream",
     "text": [
      "=> 载入数据中...\n",
      "=> 建模特征列： ['V0', 'V1', 'V2', 'V3', 'V4', 'V5', 'V6', 'V7', 'V8', 'V9', 'V10', 'V11', 'V12', 'V13', 'V14', 'V15', 'V16', 'V17', 'V18', 'V19', 'V20', 'V21', 'V22', 'V23', 'V24', 'V25', 'V26', 'V27', 'V28', 'V29', 'V30', 'V31', 'V32', 'V33', 'V34', 'V35', 'V36', 'V37']\n",
      "=> 建模类别特征列： []\n",
      "=> 使用XGBoost建模...\n",
      "Fitting 3 folds for each of 4 candidates, totalling 12 fits\n"
     ]
    },
    {
     "name": "stderr",
     "output_type": "stream",
     "text": [
      "[Parallel(n_jobs=4)]: Using backend LokyBackend with 4 concurrent workers.\n",
      "[Parallel(n_jobs=4)]: Done  12 out of  12 | elapsed:   40.5s finished\n"
     ]
    },
    {
     "name": "stdout",
     "output_type": "stream",
     "text": [
      "每轮迭代运行结果:GridSearchCV(cv=3, error_score='raise-deprecating',\n",
      "             estimator=XGBRegressor(base_score=0.5, booster='gbtree',\n",
      "                                    colsample_bylevel=1, colsample_bytree=0.8,\n",
      "                                    gamma=0, learning_rate=0.1,\n",
      "                                    max_delta_step=0, max_depth=8,\n",
      "                                    min_child_weight=1, missing=None,\n",
      "                                    n_estimators=100, n_jobs=1, nthread=None,\n",
      "                                    objective='reg:linear', random_state=0,\n",
      "                                    reg_alpha=0, reg_lambda=1,\n",
      "                                    scale_pos_weight=1, seed=2020001,\n",
      "                                    silent=True, subsample=0.8),\n",
      "             iid='warn', n_jobs=4,\n",
      "             param_grid={'n_estimators': [1000, 2000, 3000, 5000]},\n",
      "             pre_dispatch='2*n_jobs', refit=True, return_train_score=False,\n",
      "             scoring='neg_mean_squared_error', verbose=1)\n",
      "参数的最佳取值：{'n_estimators': 2000}\n",
      "最佳模型得分:-0.15482457305003072\n"
     ]
    }
   ],
   "source": [
    "print(\"=> 载入数据中...\")\n",
    "# train, test, features, category_feature = load_data(dt=dt, m_type='xgb-model')\n",
    "# # 忽略特征\n",
    "# ignore_col = ['name_price', 'name_price_backet', 'regionCode_price', 'regionCode_price_backet', # 在测试集上缺失太多的数据，XGB上放弃\n",
    "#               # 证明是不重要的特征，XGB上放弃 \n",
    "#               'creatMonth_sin', 'creatMonth_cos', 'holiday', 'creatYearMonth_hit', \n",
    "#               'creatYearMonth_price', 'creatYearMonth_price_diff1']\n",
    "# features =  [i for i in features if i not in ignore_col]\n",
    "\n",
    "print(\"=> 建模特征列：\", features)\n",
    "print(\"=> 建模类别特征列：\", category_feature)\n",
    "print(\"=> 使用XGBoost建模...\")\n",
    "\n",
    "cv_params = {\n",
    "    'n_estimators':[1000, 2000, 3000, 5000],\n",
    "#     'min_child_weight':[0.001, 0.1, 1,],\n",
    "#     'boosting_type':['dart', 'gbtree'],\n",
    "#     'subsample':[0.75]#, 0.8, 0.85, 0.9]\n",
    "    \n",
    "}\n",
    "\n",
    "other_params = {'learning_rate': 0.1, \n",
    "#                 'n_estimators': 10, \n",
    "                'max_depth': 8, \n",
    "                'min_child_weight': 1, \n",
    "                'seed': 2020001,\n",
    "                'subsample': 0.8, \n",
    "                'colsample_bytree': 0.8, \n",
    "                'gamma': 0, \n",
    "                'reg_alpha': 0, \n",
    "                'reg_lambda': 1}\n",
    "\n",
    "model = xgb.XGBRegressor(**other_params)\n",
    "\n",
    "gsearch1 = GridSearchCV(estimator = model, param_grid = cv_params, \n",
    "                        scoring='neg_mean_squared_error', n_jobs=4, verbose=1, cv=3)\n",
    "evalute_result = gsearch1.fit(train[features], train[goal])\n",
    "print('每轮迭代运行结果:{0}'.format(evalute_result))\n",
    "print('参数的最佳取值：{0}'.format(gsearch1.best_params_))\n",
    "print('最佳模型得分:{0}'.format(gsearch1.best_score_))"
   ]
  },
  {
   "cell_type": "markdown",
   "metadata": {},
   "source": [
    "## min_child_weight与max_depth确认"
   ]
  },
  {
   "cell_type": "code",
   "execution_count": 12,
   "metadata": {},
   "outputs": [
    {
     "name": "stdout",
     "output_type": "stream",
     "text": [
      "=> 载入数据中...\n",
      "=> 建模特征列： ['V0', 'V1', 'V2', 'V3', 'V4', 'V5', 'V6', 'V7', 'V8', 'V9', 'V10', 'V11', 'V12', 'V13', 'V14', 'V15', 'V16', 'V17', 'V18', 'V19', 'V20', 'V21', 'V22', 'V23', 'V24', 'V25', 'V26', 'V27', 'V28', 'V29', 'V30', 'V31', 'V32', 'V33', 'V34', 'V35', 'V36', 'V37']\n",
      "=> 建模类别特征列： []\n",
      "=> 使用XGBoost建模...\n",
      "Fitting 3 folds for each of 9 candidates, totalling 27 fits\n"
     ]
    },
    {
     "name": "stderr",
     "output_type": "stream",
     "text": [
      "[Parallel(n_jobs=4)]: Using backend LokyBackend with 4 concurrent workers.\n",
      "[Parallel(n_jobs=4)]: Done  27 out of  27 | elapsed:  1.3min finished\n"
     ]
    },
    {
     "name": "stdout",
     "output_type": "stream",
     "text": [
      "每轮迭代运行结果:GridSearchCV(cv=3, error_score='raise-deprecating',\n",
      "             estimator=XGBRegressor(base_score=0.5, booster='gbtree',\n",
      "                                    colsample_bylevel=1, colsample_bytree=0.8,\n",
      "                                    gamma=0, learning_rate=0.1,\n",
      "                                    max_delta_step=0, max_depth=3,\n",
      "                                    min_child_weight=1, missing=None,\n",
      "                                    n_estimators=2000, n_jobs=1, nthread=None,\n",
      "                                    objective='reg:linear', random_state=0,\n",
      "                                    reg_alpha=0, reg_lambda=1,\n",
      "                                    scale_pos_weight=1, seed=2020001,\n",
      "                                    silent=True, subsample=0.8),\n",
      "             iid='warn', n_jobs=4,\n",
      "             param_grid={'max_depth': [6, 7, 8], 'min_child_weight': [5, 7, 9]},\n",
      "             pre_dispatch='2*n_jobs', refit=True, return_train_score=False,\n",
      "             scoring='neg_mean_squared_error', verbose=1)\n",
      "参数的最佳取值：{'max_depth': 6, 'min_child_weight': 7}\n",
      "最佳模型得分:-0.14767545306520008\n"
     ]
    }
   ],
   "source": [
    "print(\"=> 载入数据中...\")\n",
    "# train, test, features, category_feature = load_data(dt=dt, m_type='xgb-model')\n",
    "# # 忽略特征\n",
    "# ignore_col = ['name_price', 'name_price_backet', 'regionCode_price', 'regionCode_price_backet', # 在测试集上缺失太多的数据，XGB上放弃\n",
    "#               # 证明是不重要的特征，XGB上放弃 \n",
    "#               'creatMonth_sin', 'creatMonth_cos', 'holiday', 'creatYearMonth_hit', \n",
    "#               'creatYearMonth_price', 'creatYearMonth_price_diff1']\n",
    "# features =  [i for i in features if i not in ignore_col]\n",
    "\n",
    "print(\"=> 建模特征列：\", features)\n",
    "print(\"=> 建模类别特征列：\", category_feature)\n",
    "print(\"=> 使用XGBoost建模...\")\n",
    "\n",
    "cv_params = {\n",
    "#     'n_estimators':[1000, 2000, 3000, 5000],\n",
    "    'min_child_weight':[5, 7, 9],\n",
    "    'max_depth':[6, 7, 8],\n",
    "#     'boosting_type':['dart', 'gbtree'],\n",
    "#     'subsample':[0.75]#, 0.8, 0.85, 0.9]\n",
    "    \n",
    "}\n",
    "\n",
    "other_params = {'learning_rate': 0.1, \n",
    "                'n_estimators': 2000, \n",
    "#                 'max_depth': 8, \n",
    "#                 'min_child_weight': 1, \n",
    "                'seed': 2020001,\n",
    "                'subsample': 0.8, \n",
    "                'colsample_bytree': 0.8, \n",
    "                'gamma': 0, \n",
    "                'reg_alpha': 0, \n",
    "                'reg_lambda': 1}\n",
    "\n",
    "model = xgb.XGBRegressor(**other_params)\n",
    "\n",
    "gsearch1 = GridSearchCV(estimator = model, param_grid = cv_params, \n",
    "                        scoring='neg_mean_squared_error', n_jobs=4, verbose=1, cv=3)\n",
    "evalute_result = gsearch1.fit(train[features], train[goal])\n",
    "print('每轮迭代运行结果:{0}'.format(evalute_result))\n",
    "print('参数的最佳取值：{0}'.format(gsearch1.best_params_))\n",
    "print('最佳模型得分:{0}'.format(gsearch1.best_score_))"
   ]
  },
  {
   "cell_type": "markdown",
   "metadata": {},
   "source": [
    "## gamma确认"
   ]
  },
  {
   "cell_type": "code",
   "execution_count": 14,
   "metadata": {},
   "outputs": [
    {
     "name": "stdout",
     "output_type": "stream",
     "text": [
      "=> 载入数据中...\n",
      "=> 建模特征列： ['V0', 'V1', 'V2', 'V3', 'V4', 'V5', 'V6', 'V7', 'V8', 'V9', 'V10', 'V11', 'V12', 'V13', 'V14', 'V15', 'V16', 'V17', 'V18', 'V19', 'V20', 'V21', 'V22', 'V23', 'V24', 'V25', 'V26', 'V27', 'V28', 'V29', 'V30', 'V31', 'V32', 'V33', 'V34', 'V35', 'V36', 'V37']\n",
      "=> 建模类别特征列： []\n",
      "=> 使用XGBoost建模...\n",
      "Fitting 3 folds for each of 5 candidates, totalling 15 fits\n"
     ]
    },
    {
     "name": "stderr",
     "output_type": "stream",
     "text": [
      "[Parallel(n_jobs=4)]: Using backend LokyBackend with 4 concurrent workers.\n",
      "[Parallel(n_jobs=4)]: Done  15 out of  15 | elapsed:  1.2min finished\n"
     ]
    },
    {
     "name": "stdout",
     "output_type": "stream",
     "text": [
      "每轮迭代运行结果:GridSearchCV(cv=3, error_score='raise-deprecating',\n",
      "             estimator=XGBRegressor(base_score=0.5, booster='gbtree',\n",
      "                                    colsample_bylevel=1, colsample_bytree=0.8,\n",
      "                                    gamma=0, learning_rate=0.1,\n",
      "                                    max_delta_step=0, max_depth=6,\n",
      "                                    min_child_weight=7, missing=None,\n",
      "                                    n_estimators=2000, n_jobs=1, nthread=None,\n",
      "                                    objective='reg:linear', random_state=0,\n",
      "                                    reg_alpha=0, reg_lambda=1,\n",
      "                                    scale_pos_weight=1, seed=2020001,\n",
      "                                    silent=True, subsample=0.8),\n",
      "             iid='warn', n_jobs=4,\n",
      "             param_grid={'gamma': [0, 0.001, 0.01, 0.1, 0.2]},\n",
      "             pre_dispatch='2*n_jobs', refit=True, return_train_score=False,\n",
      "             scoring='neg_mean_squared_error', verbose=1)\n",
      "参数的最佳取值：{'gamma': 0.1}\n",
      "最佳模型得分:-0.14436614011681256\n"
     ]
    }
   ],
   "source": [
    "print(\"=> 载入数据中...\")\n",
    "# train, test, features, category_feature = load_data(dt=dt, m_type='xgb-model')\n",
    "# # 忽略特征\n",
    "# ignore_col = ['name_price', 'name_price_backet', 'regionCode_price', 'regionCode_price_backet', # 在测试集上缺失太多的数据，XGB上放弃\n",
    "#               # 证明是不重要的特征，XGB上放弃 \n",
    "#               'creatMonth_sin', 'creatMonth_cos', 'holiday', 'creatYearMonth_hit', \n",
    "#               'creatYearMonth_price', 'creatYearMonth_price_diff1']\n",
    "# features =  [i for i in features if i not in ignore_col]\n",
    "\n",
    "print(\"=> 建模特征列：\", features)\n",
    "print(\"=> 建模类别特征列：\", category_feature)\n",
    "print(\"=> 使用XGBoost建模...\")\n",
    "\n",
    "cv_params = {\n",
    "#     'n_estimators':[1000, 2000, 3000, 5000],\n",
    "#     'min_child_weight':[5, 7, 9],\n",
    "#     'max_depth':[6, 7, 8],\n",
    "    'gamma':[0, 0.001, 0.01, 0.1, 0.2],\n",
    "#     'boosting_type':['dart', 'gbtree'],\n",
    "#     'subsample':[0.75]#, 0.8, 0.85, 0.9]\n",
    "    \n",
    "}\n",
    "\n",
    "other_params = {'learning_rate': 0.1, \n",
    "                'n_estimators': 2000, \n",
    "                'max_depth': 6, \n",
    "                'min_child_weight': 7, \n",
    "                'seed': 2020001,\n",
    "                'subsample': 0.8, \n",
    "                'colsample_bytree': 0.8, \n",
    "#                 'gamma': 0, \n",
    "                'reg_alpha': 0, \n",
    "                'reg_lambda': 1}\n",
    "\n",
    "model = xgb.XGBRegressor(**other_params)\n",
    "\n",
    "gsearch1 = GridSearchCV(estimator = model, param_grid = cv_params, \n",
    "                        scoring='neg_mean_squared_error', n_jobs=4, verbose=1, cv=3)\n",
    "evalute_result = gsearch1.fit(train[features], train[goal])\n",
    "print('每轮迭代运行结果:{0}'.format(evalute_result))\n",
    "print('参数的最佳取值：{0}'.format(gsearch1.best_params_))\n",
    "print('最佳模型得分:{0}'.format(gsearch1.best_score_))"
   ]
  },
  {
   "cell_type": "markdown",
   "metadata": {},
   "source": [
    "##  colsample_bytree与subsample参数确认"
   ]
  },
  {
   "cell_type": "code",
   "execution_count": 15,
   "metadata": {},
   "outputs": [
    {
     "name": "stdout",
     "output_type": "stream",
     "text": [
      "=> 载入数据中...\n",
      "=> 建模特征列： ['V0', 'V1', 'V2', 'V3', 'V4', 'V5', 'V6', 'V7', 'V8', 'V9', 'V10', 'V11', 'V12', 'V13', 'V14', 'V15', 'V16', 'V17', 'V18', 'V19', 'V20', 'V21', 'V22', 'V23', 'V24', 'V25', 'V26', 'V27', 'V28', 'V29', 'V30', 'V31', 'V32', 'V33', 'V34', 'V35', 'V36', 'V37']\n",
      "=> 建模类别特征列： []\n",
      "=> 使用XGBoost建模...\n",
      "Fitting 3 folds for each of 12 candidates, totalling 36 fits\n"
     ]
    },
    {
     "name": "stderr",
     "output_type": "stream",
     "text": [
      "[Parallel(n_jobs=4)]: Using backend LokyBackend with 4 concurrent workers.\n",
      "[Parallel(n_jobs=4)]: Done  36 out of  36 | elapsed:  2.9min finished\n"
     ]
    },
    {
     "name": "stdout",
     "output_type": "stream",
     "text": [
      "每轮迭代运行结果:GridSearchCV(cv=3, error_score='raise-deprecating',\n",
      "             estimator=XGBRegressor(base_score=0.5, booster='gbtree',\n",
      "                                    colsample_bylevel=1, colsample_bytree=0.8,\n",
      "                                    gamma=0.1, learning_rate=0.1,\n",
      "                                    max_delta_step=0, max_depth=6,\n",
      "                                    min_child_weight=7, missing=None,\n",
      "                                    n_estimators=2000, n_jobs=1, nthread=None,\n",
      "                                    objective='reg:linear', random_state=0,\n",
      "                                    reg_alpha=0, reg_lambda=1,\n",
      "                                    scale_pos_weight=1, seed=2020001,\n",
      "                                    silent=True, subsample=0.8),\n",
      "             iid='warn', n_jobs=4,\n",
      "             param_grid={'colsample_bytree': [0.7, 0.75, 0.8, 0.9],\n",
      "                         'subsample': [0.7, 0.8, 0.9]},\n",
      "             pre_dispatch='2*n_jobs', refit=True, return_train_score=False,\n",
      "             scoring='neg_mean_squared_error', verbose=1)\n",
      "参数的最佳取值：{'colsample_bytree': 0.7, 'subsample': 0.8}\n",
      "最佳模型得分:-0.14420021820930387\n"
     ]
    }
   ],
   "source": [
    "print(\"=> 载入数据中...\")\n",
    "# train, test, features, category_feature = load_data(dt=dt, m_type='xgb-model')\n",
    "# # 忽略特征\n",
    "# ignore_col = ['name_price', 'name_price_backet', 'regionCode_price', 'regionCode_price_backet', # 在测试集上缺失太多的数据，XGB上放弃\n",
    "#               # 证明是不重要的特征，XGB上放弃 \n",
    "#               'creatMonth_sin', 'creatMonth_cos', 'holiday', 'creatYearMonth_hit', \n",
    "#               'creatYearMonth_price', 'creatYearMonth_price_diff1']\n",
    "# features =  [i for i in features if i not in ignore_col]\n",
    "\n",
    "print(\"=> 建模特征列：\", features)\n",
    "print(\"=> 建模类别特征列：\", category_feature)\n",
    "print(\"=> 使用XGBoost建模...\")\n",
    "\n",
    "cv_params = {\n",
    "#     'n_estimators':[1000, 2000, 3000, 5000],\n",
    "#     'min_child_weight':[5, 7, 9],\n",
    "#     'max_depth':[6, 7, 8],\n",
    "#     'gamma':[0, 0.001, 0.01, 0.1, 0.2],\n",
    "    'subsample':[0.7, 0.8, 0.9],\n",
    "    'colsample_bytree':[0.7, 0.75, 0.8, 0.9]\n",
    "    \n",
    "}\n",
    "\n",
    "other_params = {'learning_rate': 0.1, \n",
    "                'n_estimators': 2000, \n",
    "                'max_depth': 6, \n",
    "                'min_child_weight': 7, \n",
    "                'seed': 2020001,\n",
    "                'subsample': 0.8, \n",
    "                'colsample_bytree': 0.8, \n",
    "                'gamma': 0.1, \n",
    "                'reg_alpha': 0, \n",
    "                'reg_lambda': 1\n",
    "               }\n",
    "\n",
    "model = xgb.XGBRegressor(**other_params)\n",
    "\n",
    "gsearch1 = GridSearchCV(estimator = model, param_grid = cv_params, \n",
    "                        scoring='neg_mean_squared_error', n_jobs=4, verbose=1, cv=3)\n",
    "evalute_result = gsearch1.fit(train[features], train[goal])\n",
    "print('每轮迭代运行结果:{0}'.format(evalute_result))\n",
    "print('参数的最佳取值：{0}'.format(gsearch1.best_params_))\n",
    "print('最佳模型得分:{0}'.format(gsearch1.best_score_))"
   ]
  },
  {
   "cell_type": "markdown",
   "metadata": {},
   "source": [
    "## reg_alpha与reg_lambda参数确认"
   ]
  },
  {
   "cell_type": "code",
   "execution_count": 17,
   "metadata": {},
   "outputs": [
    {
     "name": "stdout",
     "output_type": "stream",
     "text": [
      "=> 载入数据中...\n",
      "=> 建模特征列： ['V0', 'V1', 'V2', 'V3', 'V4', 'V5', 'V6', 'V7', 'V8', 'V9', 'V10', 'V11', 'V12', 'V13', 'V14', 'V15', 'V16', 'V17', 'V18', 'V19', 'V20', 'V21', 'V22', 'V23', 'V24', 'V25', 'V26', 'V27', 'V28', 'V29', 'V30', 'V31', 'V32', 'V33', 'V34', 'V35', 'V36', 'V37']\n",
      "=> 建模类别特征列： []\n",
      "=> 使用XGBoost建模...\n",
      "Fitting 3 folds for each of 12 candidates, totalling 36 fits\n"
     ]
    },
    {
     "name": "stderr",
     "output_type": "stream",
     "text": [
      "[Parallel(n_jobs=4)]: Using backend LokyBackend with 4 concurrent workers.\n",
      "[Parallel(n_jobs=4)]: Done  36 out of  36 | elapsed:  2.7min finished\n"
     ]
    },
    {
     "name": "stdout",
     "output_type": "stream",
     "text": [
      "每轮迭代运行结果:GridSearchCV(cv=3, error_score='raise-deprecating',\n",
      "             estimator=XGBRegressor(base_score=0.5, booster='gbtree',\n",
      "                                    colsample_bylevel=1, colsample_bytree=0.7,\n",
      "                                    gamma=0.1, learning_rate=0.1,\n",
      "                                    max_delta_step=0, max_depth=6,\n",
      "                                    min_child_weight=7, missing=None,\n",
      "                                    n_estimators=2000, n_jobs=1, nthread=None,\n",
      "                                    objective='reg:linear', random_state=0,\n",
      "                                    reg_alpha=0, reg_lambda=1,\n",
      "                                    scale_pos_weight=1, seed=2020001,\n",
      "                                    silent=True, subsample=0.8),\n",
      "             iid='warn', n_jobs=4,\n",
      "             param_grid={'reg_alpha': [0.01, 0.1, 0.2],\n",
      "                         'reg_lambda': [0.1, 0.3, 0.5, 0.7]},\n",
      "             pre_dispatch='2*n_jobs', refit=True, return_train_score=False,\n",
      "             scoring='neg_mean_squared_error', verbose=1)\n",
      "参数的最佳取值：{'reg_alpha': 0.01, 'reg_lambda': 0.3}\n",
      "最佳模型得分:-0.14274695483532698\n"
     ]
    }
   ],
   "source": [
    "print(\"=> 载入数据中...\")\n",
    "# train, test, features, category_feature = load_data(dt=dt, m_type='xgb-model')\n",
    "# # 忽略特征\n",
    "# ignore_col = ['name_price', 'name_price_backet', 'regionCode_price', 'regionCode_price_backet', # 在测试集上缺失太多的数据，XGB上放弃\n",
    "#               # 证明是不重要的特征，XGB上放弃 \n",
    "#               'creatMonth_sin', 'creatMonth_cos', 'holiday', 'creatYearMonth_hit', \n",
    "#               'creatYearMonth_price', 'creatYearMonth_price_diff1']\n",
    "# features =  [i for i in features if i not in ignore_col]\n",
    "\n",
    "print(\"=> 建模特征列：\", features)\n",
    "print(\"=> 建模类别特征列：\", category_feature)\n",
    "print(\"=> 使用XGBoost建模...\")\n",
    "\n",
    "cv_params = {\n",
    "#     'n_estimators':[1000, 2000, 3000, 5000],\n",
    "#     'min_child_weight':[5, 7, 9],\n",
    "#     'max_depth':[6, 7, 8],\n",
    "#     'gamma':[0, 0.001, 0.01, 0.1, 0.2],\n",
    "#     'subsample':[0.7, 0.8, 0.9],\n",
    "#     'colsample_bytree':[0.7, 0.75, 0.8, 0.9],\n",
    "    'reg_alpha': [0.01, 0.1, 0.2],\n",
    "    'reg_lambda': [0.1, 0.3, 0.5, 0.7]    \n",
    "}\n",
    "\n",
    "other_params = {'learning_rate': 0.1, \n",
    "                'n_estimators': 2000, \n",
    "                'max_depth': 6, \n",
    "                'min_child_weight': 7, \n",
    "                'seed': 2020001,\n",
    "                'subsample': 0.8, \n",
    "                'colsample_bytree': 0.7, \n",
    "                'gamma': 0.1, \n",
    "#                 'reg_alpha': 0, \n",
    "#                 'reg_lambda': 1\n",
    "               }\n",
    "\n",
    "model = xgb.XGBRegressor(**other_params)\n",
    "\n",
    "gsearch1 = GridSearchCV(estimator = model, param_grid = cv_params, \n",
    "                        scoring='neg_mean_squared_error', n_jobs=4, verbose=1, cv=3)\n",
    "evalute_result = gsearch1.fit(train[features], train[goal])\n",
    "print('每轮迭代运行结果:{0}'.format(evalute_result))\n",
    "print('参数的最佳取值：{0}'.format(gsearch1.best_params_))\n",
    "print('最佳模型得分:{0}'.format(gsearch1.best_score_))"
   ]
  },
  {
   "cell_type": "markdown",
   "metadata": {},
   "source": [
    "# 训练与分析"
   ]
  },
  {
   "cell_type": "code",
   "execution_count": 25,
   "metadata": {},
   "outputs": [
    {
     "name": "stdout",
     "output_type": "stream",
     "text": [
      "XGB交叉验证...\n",
      "[0]\ttrain-mae:0.751622\ttest-mae:0.751821\n",
      "[500]\ttrain-mae:0.123904\ttest-mae:0.244841\n",
      "[1000]\ttrain-mae:0.0881197\ttest-mae:0.239317\n",
      "[1500]\ttrain-mae:0.076552\ttest-mae:0.238326\n",
      "[2000]\ttrain-mae:0.072467\ttest-mae:0.237997\n"
     ]
    },
    {
     "data": {
      "text/plain": [
       "XGBRegressor(base_score=0.5, booster='gbtree', colsample_bylevel=1,\n",
       "             colsample_bytree=0.7, gamma=0.1, learning_rate=0.01,\n",
       "             max_delta_step=0, max_depth=6, min_child_weight=7, missing=None,\n",
       "             n_estimators=2024, n_jobs=1, nthread=4, objective='reg:linear',\n",
       "             random_state=0, reg_alpha=0.01, reg_lambda=0.3, scale_pos_weight=1,\n",
       "             seed=2020002, silent=True, subsample=0.8)"
      ]
     },
     "execution_count": 25,
     "metadata": {},
     "output_type": "execute_result"
    },
    {
     "name": "stdout",
     "output_type": "stream",
     "text": [
      "XGB训练...\n"
     ]
    },
    {
     "data": {
      "text/plain": [
       "XGBRegressor(base_score=0.5, booster='gbtree', colsample_bylevel=1,\n",
       "             colsample_bytree=0.7, gamma=0.1, learning_rate=0.01,\n",
       "             max_delta_step=0, max_depth=6, min_child_weight=7, missing=None,\n",
       "             n_estimators=2024, n_jobs=1, nthread=4, objective='reg:linear',\n",
       "             random_state=0, reg_alpha=0.01, reg_lambda=0.3, scale_pos_weight=1,\n",
       "             seed=2020002, silent=True, subsample=0.8)"
      ]
     },
     "execution_count": 25,
     "metadata": {},
     "output_type": "execute_result"
    },
    {
     "name": "stdout",
     "output_type": "stream",
     "text": [
      "训练集MSE： 0.010022265517927455\n",
      "XGB迭代次数... 2024\n",
      "XGB测试集预测...\n",
      "XGB的特征重要性...\n"
     ]
    },
    {
     "data": {
      "text/plain": [
       "<matplotlib.axes._subplots.AxesSubplot at 0x2092aeb6898>"
      ]
     },
     "execution_count": 25,
     "metadata": {},
     "output_type": "execute_result"
    },
    {
     "data": {
      "image/png": "[encoded data removed]",
      "text/plain": [
       "<Figure size 936x504 with 1 Axes>"
      ]
     },
     "metadata": {},
     "output_type": "display_data"
    }
   ],
   "source": [
    "xgbRegr = XGBRegressor(\n",
    "    learning_rate =0.01,\n",
    "    n_estimators=8000,\n",
    "    max_depth = 6,\n",
    "    min_child_weight=7,\n",
    "    reg_alpha= 0.01,\n",
    "    reg_lambda= 0.3,\n",
    "    gamma=0.1,\n",
    "    subsample=0.8,\n",
    "    colsample_bytree=0.7,\n",
    "    nthread=4,\n",
    "    seed=2020002)\n",
    "print('XGB交叉验证...')\n",
    "xgb_param = xgbRegr.get_xgb_params()\n",
    "dtrain = xgb.DMatrix(train[features], train[goal])\n",
    "cvresult = xgb.cv(xgb_param, \n",
    "                  dtrain,\n",
    "                  num_boost_round=xgbRegr.get_params()['n_estimators'], \n",
    "                  nfold=3, \n",
    "                  metrics='mae',\n",
    "                  early_stopping_rounds=50, \n",
    "                  verbose_eval=500, \n",
    "                  show_stdv=False, \n",
    "                  seed=202002, \n",
    "                  callbacks=None, \n",
    "                  shuffle=True)\n",
    "xgbRegr.set_params(n_estimators=cvresult.shape[0])\n",
    "print('XGB训练...')\n",
    "xgbRegr.fit(train[features], train[goal], eval_metric='mae')\n",
    "print('训练集MSE：', mean_squared_error(y_true=train[goal], y_pred=xgbRegr.predict(train[features])) )\n",
    "print('XGB迭代次数...', xgbRegr.n_estimators)\n",
    "print('XGB测试集预测...')\n",
    "target_pre = xgbRegr.predict(test[features])\n",
    "\n",
    "#Plot feature importance \n",
    "print('XGB的特征重要性...')\n",
    "plot_importance(xgbRegr)\n",
    "plt.show()"
   ]
  },
  {
   "cell_type": "markdown",
   "metadata": {},
   "source": [
    "# 保存结果"
   ]
  },
  {
   "cell_type": "code",
   "execution_count": 30,
   "metadata": {},
   "outputs": [],
   "source": [
    "submission = pd.DataFrame({goal: target_pre})\n",
    "submission.to_csv(\"../result/sample_submit.txt\", sep='\\t', index=False, header=False)"
   ]
  },
  {
   "cell_type": "code",
   "execution_count": null,
   "metadata": {},
   "outputs": [],
   "source": []
  },
  {
   "cell_type": "code",
   "execution_count": null,
   "metadata": {},
   "outputs": [],
   "source": []
  },
  {
   "cell_type": "code",
   "execution_count": null,
   "metadata": {},
   "outputs": [],
   "source": []
  }
 ],
 "metadata": {
  "kernelspec": {
   "display_name": "Python 3",
   "language": "python",
   "name": "python3"
  },
  "language_info": {
   "codemirror_mode": {
    "name": "ipython",
    "version": 3
   },
   "file_extension": ".py",
   "mimetype": "text/x-python",
   "name": "python",
   "nbconvert_exporter": "python",
   "pygments_lexer": "ipython3",
   "version": "3.6.5"
  },
  "latex_envs": {
   "LaTeX_envs_menu_present": true,
   "autoclose": false,
   "autocomplete": true,
   "bibliofile": "biblio.bib",
   "cite_by": "apalike",
   "current_citInitial": 1,
   "eqLabelWithNumbers": true,
   "eqNumInitial": 1,
   "hotkeys": {
    "equation": "Ctrl-E",
    "itemize": "Ctrl-I"
   },
   "labels_anchors": false,
   "latex_user_defs": false,
   "report_style_numbering": false,
   "user_envs_cfg": false
  },
  "toc": {
   "base_numbering": 1,
   "nav_menu": {},
   "number_sections": true,
   "sideBar": true,
   "skip_h1_title": false,
   "title_cell": "Table of Contents",
   "title_sidebar": "Contents",
   "toc_cell": false,
   "toc_position": {},
   "toc_section_display": true,
   "toc_window_display": false
  }
 },
 "nbformat": 4,
 "nbformat_minor": 2
}
