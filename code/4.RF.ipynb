{
 "cells": [
  {
   "cell_type": "code",
   "execution_count": 14,
   "metadata": {},
   "outputs": [
    {
     "name": "stdout",
     "output_type": "stream",
     "text": [
      "Pretty printing has been turned ON\n"
     ]
    }
   ],
   "source": [
    "import pandas as pd\n",
    "import numpy as np\n",
    "from sklearn.ensemble import RandomForestRegressor\n",
    "from sklearn.model_selection import GridSearchCV\n",
    "from sklearn.model_selection import train_test_split\n",
    "from sklearn.metrics import make_scorer,mean_squared_error\n",
    "from sklearn.preprocessing import StandardScaler, LabelEncoder\n",
    "\n",
    "import seaborn as sns\n",
    "import matplotlib.pyplot as plt\n",
    "%matplotlib inline\n",
    "%config ZMQInteractiveShell.ast_node_interactivity='all'\n",
    "%pprint"
   ]
  },
  {
   "cell_type": "code",
   "execution_count": 10,
   "metadata": {},
   "outputs": [],
   "source": [
    "# 大小设置\n",
    "sns.set(rc={'figure.figsize':(13,7)})\n",
    "# 风格设置\n",
    "sns.set_style(\"whitegrid\")\n",
    "\n",
    "goal = 'target'\n"
   ]
  },
  {
   "cell_type": "markdown",
   "metadata": {},
   "source": [
    "# 加载数据"
   ]
  },
  {
   "cell_type": "code",
   "execution_count": 11,
   "metadata": {},
   "outputs": [
    {
     "data": {
      "text/html": [
       "<div>\n",
       "<style scoped>\n",
       "    .dataframe tbody tr th:only-of-type {\n",
       "        vertical-align: middle;\n",
       "    }\n",
       "\n",
       "    .dataframe tbody tr th {\n",
       "        vertical-align: top;\n",
       "    }\n",
       "\n",
       "    .dataframe thead th {\n",
       "        text-align: right;\n",
       "    }\n",
       "</style>\n",
       "<table border=\"1\" class=\"dataframe\">\n",
       "  <thead>\n",
       "    <tr style=\"text-align: right;\">\n",
       "      <th></th>\n",
       "      <th>V0</th>\n",
       "      <th>V1</th>\n",
       "      <th>V2</th>\n",
       "      <th>V3</th>\n",
       "      <th>V4</th>\n",
       "      <th>V5</th>\n",
       "      <th>V6</th>\n",
       "      <th>V7</th>\n",
       "      <th>V8</th>\n",
       "      <th>V9</th>\n",
       "      <th>...</th>\n",
       "      <th>V29</th>\n",
       "      <th>V30</th>\n",
       "      <th>V31</th>\n",
       "      <th>V32</th>\n",
       "      <th>V33</th>\n",
       "      <th>V34</th>\n",
       "      <th>V35</th>\n",
       "      <th>V36</th>\n",
       "      <th>V37</th>\n",
       "      <th>target</th>\n",
       "    </tr>\n",
       "  </thead>\n",
       "  <tbody>\n",
       "    <tr>\n",
       "      <td>0</td>\n",
       "      <td>0.566</td>\n",
       "      <td>0.016</td>\n",
       "      <td>-0.143</td>\n",
       "      <td>0.407</td>\n",
       "      <td>0.452</td>\n",
       "      <td>-0.901</td>\n",
       "      <td>-1.812</td>\n",
       "      <td>-2.36</td>\n",
       "      <td>-0.436</td>\n",
       "      <td>-2.114</td>\n",
       "      <td>...</td>\n",
       "      <td>0.136</td>\n",
       "      <td>0.109</td>\n",
       "      <td>-0.615</td>\n",
       "      <td>0.327</td>\n",
       "      <td>-4.627</td>\n",
       "      <td>-4.789</td>\n",
       "      <td>-5.101</td>\n",
       "      <td>-2.608</td>\n",
       "      <td>-3.508</td>\n",
       "      <td>0.175</td>\n",
       "    </tr>\n",
       "    <tr>\n",
       "      <td>1</td>\n",
       "      <td>0.968</td>\n",
       "      <td>0.437</td>\n",
       "      <td>0.066</td>\n",
       "      <td>0.566</td>\n",
       "      <td>0.194</td>\n",
       "      <td>-0.893</td>\n",
       "      <td>-1.566</td>\n",
       "      <td>-2.36</td>\n",
       "      <td>0.332</td>\n",
       "      <td>-2.114</td>\n",
       "      <td>...</td>\n",
       "      <td>-0.128</td>\n",
       "      <td>0.124</td>\n",
       "      <td>0.032</td>\n",
       "      <td>0.600</td>\n",
       "      <td>-0.843</td>\n",
       "      <td>0.160</td>\n",
       "      <td>0.364</td>\n",
       "      <td>-0.335</td>\n",
       "      <td>-0.730</td>\n",
       "      <td>0.676</td>\n",
       "    </tr>\n",
       "  </tbody>\n",
       "</table>\n",
       "<p>2 rows × 39 columns</p>\n",
       "</div>"
      ],
      "text/plain": [
       "      V0     V1     V2     V3     V4     V5     V6    V7     V8     V9  ...  \\\n",
       "0  0.566  0.016 -0.143  0.407  0.452 -0.901 -1.812 -2.36 -0.436 -2.114  ...   \n",
       "1  0.968  0.437  0.066  0.566  0.194 -0.893 -1.566 -2.36  0.332 -2.114  ...   \n",
       "\n",
       "     V29    V30    V31    V32    V33    V34    V35    V36    V37  target  \n",
       "0  0.136  0.109 -0.615  0.327 -4.627 -4.789 -5.101 -2.608 -3.508   0.175  \n",
       "1 -0.128  0.124  0.032  0.600 -0.843  0.160  0.364 -0.335 -0.730   0.676  \n",
       "\n",
       "[2 rows x 39 columns]"
      ]
     },
     "execution_count": 11,
     "metadata": {},
     "output_type": "execute_result"
    },
    {
     "data": {
      "text/html": [
       "<div>\n",
       "<style scoped>\n",
       "    .dataframe tbody tr th:only-of-type {\n",
       "        vertical-align: middle;\n",
       "    }\n",
       "\n",
       "    .dataframe tbody tr th {\n",
       "        vertical-align: top;\n",
       "    }\n",
       "\n",
       "    .dataframe thead th {\n",
       "        text-align: right;\n",
       "    }\n",
       "</style>\n",
       "<table border=\"1\" class=\"dataframe\">\n",
       "  <thead>\n",
       "    <tr style=\"text-align: right;\">\n",
       "      <th></th>\n",
       "      <th>V0</th>\n",
       "      <th>V1</th>\n",
       "      <th>V2</th>\n",
       "      <th>V3</th>\n",
       "      <th>V4</th>\n",
       "      <th>V5</th>\n",
       "      <th>V6</th>\n",
       "      <th>V7</th>\n",
       "      <th>V8</th>\n",
       "      <th>V9</th>\n",
       "      <th>...</th>\n",
       "      <th>V28</th>\n",
       "      <th>V29</th>\n",
       "      <th>V30</th>\n",
       "      <th>V31</th>\n",
       "      <th>V32</th>\n",
       "      <th>V33</th>\n",
       "      <th>V34</th>\n",
       "      <th>V35</th>\n",
       "      <th>V36</th>\n",
       "      <th>V37</th>\n",
       "    </tr>\n",
       "  </thead>\n",
       "  <tbody>\n",
       "    <tr>\n",
       "      <td>0</td>\n",
       "      <td>0.368</td>\n",
       "      <td>0.380</td>\n",
       "      <td>-0.225</td>\n",
       "      <td>-0.049</td>\n",
       "      <td>0.379</td>\n",
       "      <td>0.092</td>\n",
       "      <td>0.550</td>\n",
       "      <td>0.551</td>\n",
       "      <td>0.244</td>\n",
       "      <td>0.904</td>\n",
       "      <td>...</td>\n",
       "      <td>-0.449</td>\n",
       "      <td>0.047</td>\n",
       "      <td>0.057</td>\n",
       "      <td>-0.042</td>\n",
       "      <td>0.847</td>\n",
       "      <td>0.534</td>\n",
       "      <td>-0.009</td>\n",
       "      <td>-0.190</td>\n",
       "      <td>-0.567</td>\n",
       "      <td>0.388</td>\n",
       "    </tr>\n",
       "    <tr>\n",
       "      <td>1</td>\n",
       "      <td>0.148</td>\n",
       "      <td>0.489</td>\n",
       "      <td>-0.247</td>\n",
       "      <td>-0.049</td>\n",
       "      <td>0.122</td>\n",
       "      <td>-0.201</td>\n",
       "      <td>0.487</td>\n",
       "      <td>0.493</td>\n",
       "      <td>-0.127</td>\n",
       "      <td>0.904</td>\n",
       "      <td>...</td>\n",
       "      <td>-0.443</td>\n",
       "      <td>0.047</td>\n",
       "      <td>0.560</td>\n",
       "      <td>0.176</td>\n",
       "      <td>0.551</td>\n",
       "      <td>0.046</td>\n",
       "      <td>-0.220</td>\n",
       "      <td>0.008</td>\n",
       "      <td>-0.294</td>\n",
       "      <td>0.104</td>\n",
       "    </tr>\n",
       "  </tbody>\n",
       "</table>\n",
       "<p>2 rows × 38 columns</p>\n",
       "</div>"
      ],
      "text/plain": [
       "      V0     V1     V2     V3     V4     V5     V6     V7     V8     V9  ...  \\\n",
       "0  0.368  0.380 -0.225 -0.049  0.379  0.092  0.550  0.551  0.244  0.904  ...   \n",
       "1  0.148  0.489 -0.247 -0.049  0.122 -0.201  0.487  0.493 -0.127  0.904  ...   \n",
       "\n",
       "     V28    V29    V30    V31    V32    V33    V34    V35    V36    V37  \n",
       "0 -0.449  0.047  0.057 -0.042  0.847  0.534 -0.009 -0.190 -0.567  0.388  \n",
       "1 -0.443  0.047  0.560  0.176  0.551  0.046 -0.220  0.008 -0.294  0.104  \n",
       "\n",
       "[2 rows x 38 columns]"
      ]
     },
     "execution_count": 11,
     "metadata": {},
     "output_type": "execute_result"
    }
   ],
   "source": [
    "df_train = pd.read_table('../data/zhengqi_train.txt', sep='\\t')\n",
    "df_train.head(2)\n",
    "df_test = pd.read_table('../data/zhengqi_test.txt', sep='\\t')\n",
    "df_test.head(2)\n",
    "df_test[\"target\"] = 0\n",
    "df_train[\"isTrain\"] = 1\n",
    "df_test[\"isTrain\"] = 0\n",
    "dt = pd.concat([df_train, df_test], ignore_index=True)"
   ]
  },
  {
   "cell_type": "markdown",
   "metadata": {},
   "source": [
    "# 加载数据"
   ]
  },
  {
   "cell_type": "code",
   "execution_count": 15,
   "metadata": {},
   "outputs": [],
   "source": [
    "def load_data(dt=dt, m_type = 'xgb-model'):\n",
    "    \"\"\"\n",
    "        加载数据，输出放入模型的特征features列表以及特征列表中是类别型的列表cate_feat\n",
    "        对cate_feat进行了LabelEncoder，针对LGB增加category转化\n",
    "    \"\"\"\n",
    "    # 参考资料：树模型LabelEncoder——https://www.cnblogs.com/ranjiewen/p/9105954.html:\n",
    "\n",
    "    noise_feature = [goal, 'isTrain']\n",
    "    category_feature = []\n",
    "    numeric_feature = [i for i in dt.columns if i not in category_feature + noise_feature]\n",
    "    \n",
    "    lbl = LabelEncoder()  \n",
    "    for col in category_feature:\n",
    "        dt[col] = lbl.fit_transform(dt[col].astype(str))\n",
    "    if m_type == 'lgb-model':\n",
    "        for catf in category_feature:\n",
    "            dt[catf] = dt[catf].astype('category')         \n",
    "    features = numeric_feature + category_feature\n",
    "    train = dt[dt.isTrain==1]\n",
    "    test = dt[dt.isTrain==0]\n",
    "\n",
    "\n",
    "    return (train, test, features, category_feature)"
   ]
  },
  {
   "cell_type": "markdown",
   "metadata": {},
   "source": [
    "# 调参\n",
    "\n",
    "- 参考资料：https://www.cnblogs.com/pinard/p/6160412.html"
   ]
  },
  {
   "cell_type": "code",
   "execution_count": 16,
   "metadata": {},
   "outputs": [
    {
     "name": "stdout",
     "output_type": "stream",
     "text": [
      "=> 载入数据中...\n"
     ]
    }
   ],
   "source": [
    "print(\"=> 载入数据中...\")\n",
    "train, test, features, category_feature = load_data(dt=dt, m_type='xgb-model')"
   ]
  },
  {
   "cell_type": "code",
   "execution_count": 17,
   "metadata": {},
   "outputs": [],
   "source": [
    "X = train[features]\n",
    "y = train[goal]"
   ]
  },
  {
   "cell_type": "code",
   "execution_count": 18,
   "metadata": {},
   "outputs": [
    {
     "name": "stdout",
     "output_type": "stream",
     "text": [
      "正在拟合...\n"
     ]
    },
    {
     "name": "stderr",
     "output_type": "stream",
     "text": [
      "C:\\ProgramData\\Anaconda3\\lib\\site-packages\\sklearn\\ensemble\\forest.py:245: FutureWarning: The default value of n_estimators will change from 10 in version 0.20 to 100 in 0.22.\n",
      "  \"10 in version 0.20 to 100 in 0.22.\", FutureWarning)\n",
      "C:\\ProgramData\\Anaconda3\\lib\\site-packages\\sklearn\\ensemble\\forest.py:737: UserWarning: Some inputs do not have OOB scores. This probably means too few trees were used to compute any reliable oob estimates.\n",
      "  warn(\"Some inputs do not have OOB scores. \"\n"
     ]
    },
    {
     "data": {
      "text/plain": [
       "RandomForestRegressor(bootstrap=True, criterion='mse', max_depth=None,\n",
       "                      max_features='auto', max_leaf_nodes=None,\n",
       "                      min_impurity_decrease=0.0, min_impurity_split=None,\n",
       "                      min_samples_leaf=1, min_samples_split=2,\n",
       "                      min_weight_fraction_leaf=0.0, n_estimators=10,\n",
       "                      n_jobs=None, oob_score=True, random_state=2020001,\n",
       "                      verbose=0, warm_start=False)"
      ]
     },
     "execution_count": 18,
     "metadata": {},
     "output_type": "execute_result"
    },
    {
     "name": "stdout",
     "output_type": "stream",
     "text": [
      "0.8170735128260144\n",
      "整正在预测...\n",
      "输出MSE: 0.024457791630886426\n"
     ]
    }
   ],
   "source": [
    "\n",
    "rf0 = RandomForestRegressor(oob_score=True, random_state=2020001)\n",
    "print('正在拟合...')\n",
    "rf0.fit(X, y)\n",
    "print(rf0.oob_score_)\n",
    "print('整正在预测...')\n",
    "y_pred = rf0.predict(X)\n",
    "\n",
    "print('输出MSE:', mean_squared_error(y_true=y, y_pred=y_pred)) "
   ]
  },
  {
   "cell_type": "markdown",
   "metadata": {},
   "source": [
    "## 迭代次数"
   ]
  },
  {
   "cell_type": "code",
   "execution_count": 23,
   "metadata": {},
   "outputs": [
    {
     "name": "stdout",
     "output_type": "stream",
     "text": [
      "=> 载入数据中...\n",
      "=> 建模特征列： ['V0', 'V1', 'V2', 'V3', 'V4', 'V5', 'V6', 'V7', 'V8', 'V9', 'V10', 'V11', 'V12', 'V13', 'V14', 'V15', 'V16', 'V17', 'V18', 'V19', 'V20', 'V21', 'V22', 'V23', 'V24', 'V25', 'V26', 'V27', 'V28', 'V29', 'V30', 'V31', 'V32', 'V33', 'V34', 'V35', 'V36', 'V37']\n",
      "=> 建模类别特征列： []\n",
      "=> 使用RF建模...\n",
      "Fitting 3 folds for each of 4 candidates, totalling 12 fits\n"
     ]
    },
    {
     "name": "stderr",
     "output_type": "stream",
     "text": [
      "[Parallel(n_jobs=4)]: Using backend LokyBackend with 4 concurrent workers.\n",
      "[Parallel(n_jobs=4)]: Done  12 out of  12 | elapsed:   57.4s finished\n"
     ]
    },
    {
     "name": "stdout",
     "output_type": "stream",
     "text": [
      "每轮迭代运行结果:GridSearchCV(cv=3, error_score='raise-deprecating',\n",
      "             estimator=RandomForestRegressor(bootstrap=True, criterion='mse',\n",
      "                                             max_depth=8, max_features='auto',\n",
      "                                             max_leaf_nodes=None,\n",
      "                                             min_impurity_decrease=0.0,\n",
      "                                             min_impurity_split=None,\n",
      "                                             min_samples_leaf=5,\n",
      "                                             min_samples_split=6,\n",
      "                                             min_weight_fraction_leaf=0.0,\n",
      "                                             n_estimators='warn', n_jobs=None,\n",
      "                                             oob_score=False,\n",
      "                                             random_state=2020002, verbose=0,\n",
      "                                             warm_start=False),\n",
      "             iid='warn', n_jobs=4,\n",
      "             param_grid={'n_estimators': [200, 500, 800, 1000]},\n",
      "             pre_dispatch='2*n_jobs', refit=True, return_train_score=False,\n",
      "             scoring='neg_mean_squared_error', verbose=1)\n",
      "参数的最佳取值：{'n_estimators': 500}\n",
      "最佳模型得分:-0.1512182368004147\n"
     ]
    }
   ],
   "source": [
    "print(\"=> 载入数据中...\")\n",
    "print(\"=> 建模特征列：\", features)\n",
    "print(\"=> 建模类别特征列：\", category_feature)\n",
    "print(\"=> 使用RF建模...\")\n",
    "\n",
    "param_test1 = {\n",
    "    'n_estimators': [200, 500, 800, 1000]\n",
    "}\n",
    "gsearch1 = GridSearchCV(estimator = \n",
    "                        RandomForestRegressor(min_samples_split=6,\n",
    "                                              min_samples_leaf=5,\n",
    "                                              max_depth=8,\n",
    "                                              random_state=2020002), \n",
    "                        param_grid = param_test1, \n",
    "                        scoring='neg_mean_squared_error', n_jobs=4, verbose=1, cv=3)\n",
    "\n",
    "evalute_result = gsearch1.fit(X,y)\n",
    "\n",
    "print('每轮迭代运行结果:{0}'.format(evalute_result))\n",
    "print('参数的最佳取值：{0}'.format(gsearch1.best_params_))\n",
    "print('最佳模型得分:{0}'.format(gsearch1.best_score_))"
   ]
  },
  {
   "cell_type": "markdown",
   "metadata": {},
   "source": [
    "## max_depth与min_samples_split"
   ]
  },
  {
   "cell_type": "code",
   "execution_count": 24,
   "metadata": {},
   "outputs": [
    {
     "name": "stdout",
     "output_type": "stream",
     "text": [
      "=> 载入数据中...\n",
      "=> 建模特征列： ['V0', 'V1', 'V2', 'V3', 'V4', 'V5', 'V6', 'V7', 'V8', 'V9', 'V10', 'V11', 'V12', 'V13', 'V14', 'V15', 'V16', 'V17', 'V18', 'V19', 'V20', 'V21', 'V22', 'V23', 'V24', 'V25', 'V26', 'V27', 'V28', 'V29', 'V30', 'V31', 'V32', 'V33', 'V34', 'V35', 'V36', 'V37']\n",
      "=> 建模类别特征列： []\n",
      "=> 使用RF建模...\n",
      "Fitting 3 folds for each of 20 candidates, totalling 60 fits\n"
     ]
    },
    {
     "name": "stderr",
     "output_type": "stream",
     "text": [
      "[Parallel(n_jobs=4)]: Using backend LokyBackend with 4 concurrent workers.\n",
      "[Parallel(n_jobs=4)]: Done  42 tasks      | elapsed:  2.1min\n",
      "[Parallel(n_jobs=4)]: Done  60 out of  60 | elapsed:  2.9min finished\n"
     ]
    },
    {
     "name": "stdout",
     "output_type": "stream",
     "text": [
      "每轮迭代运行结果:GridSearchCV(cv=3, error_score='raise-deprecating',\n",
      "             estimator=RandomForestRegressor(bootstrap=True, criterion='mse',\n",
      "                                             max_depth=None,\n",
      "                                             max_features='auto',\n",
      "                                             max_leaf_nodes=None,\n",
      "                                             min_impurity_decrease=0.0,\n",
      "                                             min_impurity_split=None,\n",
      "                                             min_samples_leaf=5,\n",
      "                                             min_samples_split=2,\n",
      "                                             min_weight_fraction_leaf=0.0,\n",
      "                                             n_estimators=500, n_jobs=None,\n",
      "                                             oob_score=False,\n",
      "                                             random_state=2020002, verbose=0,\n",
      "                                             warm_start=False),\n",
      "             iid='warn', n_jobs=4,\n",
      "             param_grid={'max_depth': range(6, 11),\n",
      "                         'min_samples_split': [3, 5, 7, 9]},\n",
      "             pre_dispatch='2*n_jobs', refit=True, return_train_score=False,\n",
      "             scoring='neg_mean_squared_error', verbose=1)\n",
      "参数的最佳取值：{'max_depth': 10, 'min_samples_split': 3}\n",
      "最佳模型得分:-0.14958346296508232\n"
     ]
    }
   ],
   "source": [
    "print(\"=> 载入数据中...\")\n",
    "print(\"=> 建模特征列：\", features)\n",
    "print(\"=> 建模类别特征列：\", category_feature)\n",
    "print(\"=> 使用RF建模...\")\n",
    "\n",
    "param_test1 = {\n",
    "    'max_depth': range(6, 11, 1), \n",
    "    'min_samples_split': [3, 5, 7, 9]\n",
    "}\n",
    "gsearch1 = GridSearchCV(estimator = \n",
    "                        RandomForestRegressor(n_estimators=500,\n",
    "#                                               min_samples_split=6,\n",
    "#                                               max_depth=8,\n",
    "                                              min_samples_leaf=5,\n",
    "                                              random_state=2020002), \n",
    "                        param_grid = param_test1, \n",
    "                        scoring='neg_mean_squared_error', n_jobs=4, verbose=1, cv=3)\n",
    "\n",
    "evalute_result = gsearch1.fit(X,y)\n",
    "\n",
    "print('每轮迭代运行结果:{0}'.format(evalute_result))\n",
    "print('参数的最佳取值：{0}'.format(gsearch1.best_params_))\n",
    "print('最佳模型得分:{0}'.format(gsearch1.best_score_))"
   ]
  },
  {
   "cell_type": "markdown",
   "metadata": {},
   "source": [
    "## min_samples_leaf"
   ]
  },
  {
   "cell_type": "code",
   "execution_count": 26,
   "metadata": {},
   "outputs": [
    {
     "name": "stdout",
     "output_type": "stream",
     "text": [
      "=> 载入数据中...\n",
      "=> 建模特征列： ['V0', 'V1', 'V2', 'V3', 'V4', 'V5', 'V6', 'V7', 'V8', 'V9', 'V10', 'V11', 'V12', 'V13', 'V14', 'V15', 'V16', 'V17', 'V18', 'V19', 'V20', 'V21', 'V22', 'V23', 'V24', 'V25', 'V26', 'V27', 'V28', 'V29', 'V30', 'V31', 'V32', 'V33', 'V34', 'V35', 'V36', 'V37']\n",
      "=> 建模类别特征列： []\n",
      "=> 使用RF建模...\n",
      "Fitting 3 folds for each of 15 candidates, totalling 45 fits\n"
     ]
    },
    {
     "name": "stderr",
     "output_type": "stream",
     "text": [
      "[Parallel(n_jobs=4)]: Using backend LokyBackend with 4 concurrent workers.\n",
      "[Parallel(n_jobs=4)]: Done  45 out of  45 | elapsed:  2.5min finished\n"
     ]
    },
    {
     "name": "stdout",
     "output_type": "stream",
     "text": [
      "每轮迭代运行结果:GridSearchCV(cv=3, error_score='raise-deprecating',\n",
      "             estimator=RandomForestRegressor(bootstrap=True, criterion='mse',\n",
      "                                             max_depth=10, max_features='auto',\n",
      "                                             max_leaf_nodes=None,\n",
      "                                             min_impurity_decrease=0.0,\n",
      "                                             min_impurity_split=None,\n",
      "                                             min_samples_leaf=1,\n",
      "                                             min_samples_split=2,\n",
      "                                             min_weight_fraction_leaf=0.0,\n",
      "                                             n_estimators=500, n_jobs=None,\n",
      "                                             oob_score=False,\n",
      "                                             random_state=2020002, verbose=0,\n",
      "                                             warm_start=False),\n",
      "             iid='warn', n_jobs=4,\n",
      "             param_grid={'min_samples_leaf': range(3, 8),\n",
      "                         'min_samples_split': [2, 3, 4]},\n",
      "             pre_dispatch='2*n_jobs', refit=True, return_train_score=False,\n",
      "             scoring='neg_mean_squared_error', verbose=1)\n",
      "参数的最佳取值：{'min_samples_leaf': 4, 'min_samples_split': 2}\n",
      "最佳模型得分:-0.1495343599134101\n"
     ]
    }
   ],
   "source": [
    "print(\"=> 载入数据中...\")\n",
    "print(\"=> 建模特征列：\", features)\n",
    "print(\"=> 建模类别特征列：\", category_feature)\n",
    "print(\"=> 使用RF建模...\")\n",
    "\n",
    "param_test1 = {\n",
    "    'min_samples_leaf': range(3, 8, 1), \n",
    "    'min_samples_split': [2, 3, 4]\n",
    "}\n",
    "\n",
    "gsearch1 = GridSearchCV(estimator = \n",
    "                        RandomForestRegressor(n_estimators=500,\n",
    "#                                               min_samples_split=6,\n",
    "                                              max_depth=10,\n",
    "#                                               min_samples_leaf=4,\n",
    "                                              random_state=2020002), \n",
    "                        param_grid = param_test1, \n",
    "                        scoring='neg_mean_squared_error', n_jobs=4, verbose=1, cv=3)\n",
    "\n",
    "evalute_result = gsearch1.fit(X,y)\n",
    "\n",
    "print('每轮迭代运行结果:{0}'.format(evalute_result))\n",
    "print('参数的最佳取值：{0}'.format(gsearch1.best_params_))\n",
    "print('最佳模型得分:{0}'.format(gsearch1.best_score_))"
   ]
  },
  {
   "cell_type": "markdown",
   "metadata": {},
   "source": [
    "## max_features"
   ]
  },
  {
   "cell_type": "code",
   "execution_count": 30,
   "metadata": {},
   "outputs": [
    {
     "name": "stdout",
     "output_type": "stream",
     "text": [
      "=> 载入数据中...\n",
      "=> 建模特征列： ['V0', 'V1', 'V2', 'V3', 'V4', 'V5', 'V6', 'V7', 'V8', 'V9', 'V10', 'V11', 'V12', 'V13', 'V14', 'V15', 'V16', 'V17', 'V18', 'V19', 'V20', 'V21', 'V22', 'V23', 'V24', 'V25', 'V26', 'V27', 'V28', 'V29', 'V30', 'V31', 'V32', 'V33', 'V34', 'V35', 'V36', 'V37']\n",
      "=> 建模类别特征列： []\n",
      "=> 使用RF建模...\n",
      "Fitting 3 folds for each of 7 candidates, totalling 21 fits\n"
     ]
    },
    {
     "name": "stderr",
     "output_type": "stream",
     "text": [
      "[Parallel(n_jobs=4)]: Using backend LokyBackend with 4 concurrent workers.\n",
      "[Parallel(n_jobs=4)]: Done  21 out of  21 | elapsed:   31.1s finished\n"
     ]
    },
    {
     "name": "stdout",
     "output_type": "stream",
     "text": [
      "每轮迭代运行结果:GridSearchCV(cv=3, error_score='raise-deprecating',\n",
      "             estimator=RandomForestRegressor(bootstrap=True, criterion='mse',\n",
      "                                             max_depth=10, max_features='auto',\n",
      "                                             max_leaf_nodes=None,\n",
      "                                             min_impurity_decrease=0.0,\n",
      "                                             min_impurity_split=None,\n",
      "                                             min_samples_leaf=4,\n",
      "                                             min_samples_split=4,\n",
      "                                             min_weight_fraction_leaf=0.0,\n",
      "                                             n_estimators=500, n_jobs=None,\n",
      "                                             oob_score=False,\n",
      "                                             random_state=2020002, verbose=0,\n",
      "                                             warm_start=False),\n",
      "             iid='warn', n_jobs=4, param_grid={'max_features': range(10, 17)},\n",
      "             pre_dispatch='2*n_jobs', refit=True, return_train_score=False,\n",
      "             scoring='neg_mean_squared_error', verbose=1)\n",
      "参数的最佳取值：{'max_features': 12}\n",
      "最佳模型得分:-0.14466706636625848\n"
     ]
    }
   ],
   "source": [
    "print(\"=> 载入数据中...\")\n",
    "print(\"=> 建模特征列：\", features)\n",
    "print(\"=> 建模类别特征列：\", category_feature)\n",
    "print(\"=> 使用RF建模...\")\n",
    "\n",
    "param_test1 = {\n",
    "    'max_features':range(10, 17, 1)\n",
    "}\n",
    "\n",
    "gsearch1 = GridSearchCV(estimator = \n",
    "                        RandomForestRegressor(n_estimators=500,\n",
    "                                              min_samples_split=4,\n",
    "                                              max_depth=10,\n",
    "                                              min_samples_leaf=4,\n",
    "                                              random_state=2020002), \n",
    "                        param_grid = param_test1, \n",
    "                        scoring='neg_mean_squared_error', n_jobs=4, verbose=1, cv=3)\n",
    "\n",
    "evalute_result = gsearch1.fit(X,y)\n",
    "\n",
    "print('每轮迭代运行结果:{0}'.format(evalute_result))\n",
    "print('参数的最佳取值：{0}'.format(gsearch1.best_params_))\n",
    "print('最佳模型得分:{0}'.format(gsearch1.best_score_))"
   ]
  },
  {
   "cell_type": "markdown",
   "metadata": {},
   "source": [
    "# 训练与分析"
   ]
  },
  {
   "cell_type": "code",
   "execution_count": 32,
   "metadata": {},
   "outputs": [
    {
     "name": "stdout",
     "output_type": "stream",
     "text": [
      "正在拟合...\n"
     ]
    },
    {
     "data": {
      "text/plain": [
       "RandomForestRegressor(bootstrap=True, criterion='mse', max_depth=10,\n",
       "                      max_features=12, max_leaf_nodes=None,\n",
       "                      min_impurity_decrease=0.0, min_impurity_split=None,\n",
       "                      min_samples_leaf=4, min_samples_split=4,\n",
       "                      min_weight_fraction_leaf=0.0, n_estimators=500,\n",
       "                      n_jobs=None, oob_score=True, random_state=2020003,\n",
       "                      verbose=0, warm_start=False)"
      ]
     },
     "execution_count": 32,
     "metadata": {},
     "output_type": "execute_result"
    },
    {
     "name": "stdout",
     "output_type": "stream",
     "text": [
      "0.873352138433\n",
      "整正在预测...\n",
      "输出MSE: 0.05181592171231468\n",
      "测试集预测...\n"
     ]
    }
   ],
   "source": [
    "rf1 = RandomForestRegressor(n_estimators= 500, \n",
    "                             max_depth=10, \n",
    "                             min_samples_split=4,\n",
    "                             min_samples_leaf=4,\n",
    "                             max_features=12,\n",
    "                             oob_score=True, \n",
    "                             random_state=2020003)\n",
    "    \n",
    "print('正在拟合...')\n",
    "rf1.fit(X, y)\n",
    "print(rf1.oob_score_)\n",
    "print('整正在预测...')\n",
    "y_pred1 = rf1.predict(X)\n",
    "\n",
    "print('输出MSE:', mean_squared_error(y_true=y, y_pred=y_pred1)) \n",
    "\n",
    "print('测试集预测...')\n",
    "test_target_pre = rf1.predict(test[features])"
   ]
  },
  {
   "cell_type": "markdown",
   "metadata": {},
   "source": [
    "# 保存结果"
   ]
  },
  {
   "cell_type": "code",
   "execution_count": 33,
   "metadata": {},
   "outputs": [
    {
     "data": {
      "text/plain": [
       "<matplotlib.collections.PathCollection at 0x1b72673a7b8>"
      ]
     },
     "execution_count": 33,
     "metadata": {},
     "output_type": "execute_result"
    },
    {
     "data": {
      "image/png": "[encoded data removed]",
      "text/plain": [
       "<Figure size 432x288 with 1 Axes>"
      ]
     },
     "metadata": {},
     "output_type": "display_data"
    }
   ],
   "source": [
    "plt.scatter(y, y_pred1)"
   ]
  },
  {
   "cell_type": "code",
   "execution_count": 34,
   "metadata": {},
   "outputs": [],
   "source": [
    "submission = pd.DataFrame({goal: test_target_pre})\n",
    "submission.to_csv(\"../result/sample_submit07-xxxx-rf.txt\", sep='\\t', index=False, header=False)"
   ]
  },
  {
   "cell_type": "code",
   "execution_count": null,
   "metadata": {},
   "outputs": [],
   "source": []
  },
  {
   "cell_type": "code",
   "execution_count": null,
   "metadata": {},
   "outputs": [],
   "source": []
  },
  {
   "cell_type": "code",
   "execution_count": null,
   "metadata": {},
   "outputs": [],
   "source": []
  }
 ],
 "metadata": {
  "kernelspec": {
   "display_name": "Python 3",
   "language": "python",
   "name": "python3"
  },
  "language_info": {
   "codemirror_mode": {
    "name": "ipython",
    "version": 3
   },
   "file_extension": ".py",
   "mimetype": "text/x-python",
   "name": "python",
   "nbconvert_exporter": "python",
   "pygments_lexer": "ipython3",
   "version": "3.6.5"
  },
  "latex_envs": {
   "LaTeX_envs_menu_present": true,
   "autoclose": false,
   "autocomplete": true,
   "bibliofile": "biblio.bib",
   "cite_by": "apalike",
   "current_citInitial": 1,
   "eqLabelWithNumbers": true,
   "eqNumInitial": 1,
   "hotkeys": {
    "equation": "Ctrl-E",
    "itemize": "Ctrl-I"
   },
   "labels_anchors": false,
   "latex_user_defs": false,
   "report_style_numbering": false,
   "user_envs_cfg": false
  },
  "toc": {
   "base_numbering": 1,
   "nav_menu": {},
   "number_sections": true,
   "sideBar": true,
   "skip_h1_title": false,
   "title_cell": "Table of Contents",
   "title_sidebar": "Contents",
   "toc_cell": false,
   "toc_position": {},
   "toc_section_display": true,
   "toc_window_display": false
  }
 },
 "nbformat": 4,
 "nbformat_minor": 2
}
